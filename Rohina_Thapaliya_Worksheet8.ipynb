{
  "nbformat": 4,
  "nbformat_minor": 0,
  "metadata": {
    "colab": {
      "provenance": []
    },
    "kernelspec": {
      "name": "python3",
      "display_name": "Python 3"
    },
    "language_info": {
      "name": "python"
    }
  },
  "cells": [
    {
      "cell_type": "code",
      "execution_count": 1,
      "metadata": {
        "id": "RToHJn6gC7Yi"
      },
      "outputs": [],
      "source": [
        "from sklearn.datasets import load_wine\n",
        "from sklearn.model_selection import train_test_split, GridSearchCV, RandomizedSearchCV\n",
        "from sklearn.tree import DecisionTreeClassifier, DecisionTreeRegressor\n",
        "from sklearn.ensemble import RandomForestClassifier, RandomForestRegressor\n",
        "from sklearn.metrics import f1_score, mean_squared_error\n",
        "import numpy as np"
      ]
    },
    {
      "cell_type": "code",
      "source": [
        "#loading the wine dataset\n",
        "data = load_wine()\n",
        "X = data.data\n",
        "y = data.target\n",
        ""
      ],
      "metadata": {
        "id": "47I1J_ZGDHpY"
      },
      "execution_count": 17,
      "outputs": []
    },
    {
      "cell_type": "code",
      "source": [
        "#splitting the dataset to test and train\n",
        "X_train_clf, X_test_clf, y_train_clf, y_test_clf = train_test_split(X, y, test_size=0.2, random_state=42)"
      ],
      "metadata": {
        "id": "UBHpYKk3DWth"
      },
      "execution_count": 3,
      "outputs": []
    },
    {
      "cell_type": "code",
      "source": [
        "dt_clf = DecisionTreeClassifier(random_state=42)\n",
        "dt_clf.fit(X_train_clf, y_train_clf)\n",
        "y_pred_dt = dt_clf.predict(X_test_clf)\n",
        "f1_dt = f1_score(y_test_clf, y_pred_dt, average='weighted')#f1 score\n",
        "\n",
        ""
      ],
      "metadata": {
        "id": "e09RCGYCDgFC"
      },
      "execution_count": 4,
      "outputs": []
    },
    {
      "cell_type": "code",
      "source": [
        "rf_clf = RandomForestClassifier(random_state=42)\n",
        "rf_clf.fit(X_train_clf, y_train_clf)\n",
        "y_pred_rf = rf_clf.predict(X_test_clf)\n",
        "f1_rf = f1_score(y_test_clf, y_pred_rf, average='weighted')"
      ],
      "metadata": {
        "id": "-um9HF7kDiE_"
      },
      "execution_count": 5,
      "outputs": []
    },
    {
      "cell_type": "code",
      "source": [
        "print(\"F1 Score - Decision Tree Classifier:\", f1_dt)\n",
        "print(\"F1 Score - Random Forest Classifier:\", f1_rf)\n",
        ""
      ],
      "metadata": {
        "colab": {
          "base_uri": "https://localhost:8080/"
        },
        "id": "MGRMWljPD_c2",
        "outputId": "6167a6b5-faea-45e1-de47-0029138f0552"
      },
      "execution_count": 6,
      "outputs": [
        {
          "output_type": "stream",
          "name": "stdout",
          "text": [
            "F1 Score - Decision Tree Classifier: 0.9439974457215836\n",
            "F1 Score - Random Forest Classifier: 1.0\n"
          ]
        }
      ]
    },
    {
      "cell_type": "code",
      "source": [
        "rf_params = {\n",
        "    'n_estimators': [50, 100, 150],\n",
        "    'max_depth': [None, 10, 20, 30],\n",
        "    'min_samples_split': [2, 5, 10]\n",
        "}"
      ],
      "metadata": {
        "id": "ssy8QH2TEDGH"
      },
      "execution_count": 7,
      "outputs": []
    },
    {
      "cell_type": "code",
      "source": [
        "grid_search_rf = GridSearchCV(RandomForestClassifier(random_state=42), rf_params, cv=5, scoring='f1_weighted')\n",
        "grid_search_rf.fit(X_train_clf, y_train_clf)\n",
        "print(\"Best Hyperparameters for Random Forest Classifier:\", grid_search_rf.best_params_)"
      ],
      "metadata": {
        "colab": {
          "base_uri": "https://localhost:8080/"
        },
        "id": "Qq5AveywEHC9",
        "outputId": "c935264c-15f6-49bf-fc5f-5e636e6cce9f"
      },
      "execution_count": 8,
      "outputs": [
        {
          "output_type": "stream",
          "name": "stdout",
          "text": [
            "Best Hyperparameters for Random Forest Classifier: {'max_depth': None, 'min_samples_split': 2, 'n_estimators': 100}\n"
          ]
        }
      ]
    },
    {
      "cell_type": "markdown",
      "source": [
        "Regression model"
      ],
      "metadata": {
        "id": "h7AE_L_2EYDu"
      }
    },
    {
      "cell_type": "code",
      "source": [
        "\n",
        "#data split for the regression\n",
        "X_train_reg, X_test_reg, y_train_reg, y_test_reg = train_test_split(X, y, test_size=0.2, random_state=42)"
      ],
      "metadata": {
        "id": "fVLraUrVEMTF"
      },
      "execution_count": 10,
      "outputs": []
    },
    {
      "cell_type": "code",
      "source": [
        "dt_reg = DecisionTreeRegressor(random_state=42)\n",
        "dt_reg.fit(X_train_reg, y_train_reg)\n",
        "y_pred_dt_reg = dt_reg.predict(X_test_reg)\n",
        "mse_dt = mean_squared_error(y_test_reg, y_pred_dt_reg)"
      ],
      "metadata": {
        "id": "-u2P6oYsEj3d"
      },
      "execution_count": 11,
      "outputs": []
    },
    {
      "cell_type": "code",
      "source": [
        "\n",
        "#random forest regressor\n",
        "rf_reg = RandomForestRegressor(random_state=42)\n",
        "rf_reg.fit(X_train_reg, y_train_reg)\n",
        "y_pred_rf_reg = rf_reg.predict(X_test_reg)\n",
        "mse_rf = mean_squared_error(y_test_reg, y_pred_rf_reg)\n",
        "#for error\n",
        "#error\n",
        "print(\"MSE - Decision Tree Regressor:\", mse_dt)\n",
        "print(\"MSE - Random Forest Regressor:\", mse_rf)"
      ],
      "metadata": {
        "colab": {
          "base_uri": "https://localhost:8080/"
        },
        "id": "0pPR5vftEqtc",
        "outputId": "98a37d9f-36a2-48dc-a416-5046f6c5c1c4"
      },
      "execution_count": 13,
      "outputs": [
        {
          "output_type": "stream",
          "name": "stdout",
          "text": [
            "MSE - Decision Tree Regressor: 0.16666666666666666\n",
            "MSE - Random Forest Regressor: 0.06483333333333333\n"
          ]
        }
      ]
    },
    {
      "cell_type": "code",
      "source": [
        "#hyperparameter\n",
        "rf_reg_params = {\n",
        "    'n_estimators': [50, 100, 200],\n",
        "    'max_depth': [None, 10, 20, 30],\n",
        "    'min_samples_leaf': [1, 2, 4]\n",
        "}"
      ],
      "metadata": {
        "id": "7tc7RVk1EsFz"
      },
      "execution_count": 15,
      "outputs": []
    },
    {
      "cell_type": "code",
      "source": [
        "random_search_rf_reg = RandomizedSearchCV(RandomForestRegressor(random_state=42), rf_reg_params, n_iter=20, cv=5, scoring='neg_mean_squared_error', random_state=42)\n",
        "random_search_rf_reg.fit(X_train_reg, y_train_reg)\n",
        "print(\"Best Hyperparameters for Random Forest Regressor:\", random_search_rf_reg.best_params_)\n",
        ""
      ],
      "metadata": {
        "colab": {
          "base_uri": "https://localhost:8080/"
        },
        "id": "PaKKWXzcE26q",
        "outputId": "ab6e7b78-6c6c-4831-834d-3558f5b4dbf1"
      },
      "execution_count": 16,
      "outputs": [
        {
          "output_type": "stream",
          "name": "stdout",
          "text": [
            "Best Hyperparameters for Random Forest Regressor: {'n_estimators': 200, 'min_samples_leaf': 1, 'max_depth': 30}\n"
          ]
        }
      ]
    }
  ]
}