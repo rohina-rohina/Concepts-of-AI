{
  "nbformat": 4,
  "nbformat_minor": 0,
  "metadata": {
    "colab": {
      "provenance": []
    },
    "kernelspec": {
      "name": "python3",
      "display_name": "Python 3"
    },
    "language_info": {
      "name": "python"
    }
  },
  "cells": [
    {
      "cell_type": "markdown",
      "source": [
        "# 4.1 Warming Up Exercise: Basic Vector and Matrix Operation with Numpy."
      ],
      "metadata": {
        "id": "CE4-cAJjoKoP"
      }
    },
    {
      "cell_type": "markdown",
      "source": [
        "**Problem - 1: Array Creation:**\n",
        "\n",
        "Complete the following Tasks:\n",
        "1. Initialize an empty array with size 2X2.\n",
        "2. Initialize an all one array with size 4X2.\n",
        "3. Return a new array of given shape and type, filled with fill value.{Hint: np.full}\n",
        "4. Return a new array of zeros with same shape and type as a given array.{Hint: np.zeros like}\n",
        "5. Return a new array of ones with same shape and type as a given array.{Hint: np.ones like}\n",
        "6. For an existing list new_list = [1,2,3,4] convert to an numpy array.{Hint: np.array()}"
      ],
      "metadata": {
        "id": "60WRldNJoaJ8"
      }
    },
    {
      "cell_type": "code",
      "source": [
        "import numpy as np\n",
        "\n",
        "empty = np.empty((2, 2))\n",
        "allOne = np.ones((4, 2))\n",
        "fill = np.full(allOne.shape, 4)\n",
        "zeros = np.zeros(allOne.shape)\n",
        "ones = np.ones(allOne.shape)\n",
        "\n",
        "new_list = [1, 2, 3, 4]\n",
        "array = np.array(new_list)\n",
        "\n",
        "for index, ans in enumerate([empty, allOne, fill, zeros, ones, array]):\n",
        "  print(f\"Ans{index}: \\n{ans}\\n\")"
      ],
      "metadata": {
        "colab": {
          "base_uri": "https://localhost:8080/"
        },
        "id": "cxcvGQCTokW9",
        "outputId": "3313e6c6-6abd-47f6-c335-1af2e2c42920"
      },
      "execution_count": 1,
      "outputs": [
        {
          "output_type": "stream",
          "name": "stdout",
          "text": [
            "Ans0: \n",
            "[[4.81777505e-310 0.00000000e+000]\n",
            " [9.04115220e+271 1.02124020e+277]]\n",
            "\n",
            "Ans1: \n",
            "[[1. 1.]\n",
            " [1. 1.]\n",
            " [1. 1.]\n",
            " [1. 1.]]\n",
            "\n",
            "Ans2: \n",
            "[[4 4]\n",
            " [4 4]\n",
            " [4 4]\n",
            " [4 4]]\n",
            "\n",
            "Ans3: \n",
            "[[0. 0.]\n",
            " [0. 0.]\n",
            " [0. 0.]\n",
            " [0. 0.]]\n",
            "\n",
            "Ans4: \n",
            "[[1. 1.]\n",
            " [1. 1.]\n",
            " [1. 1.]\n",
            " [1. 1.]]\n",
            "\n",
            "Ans5: \n",
            "[1 2 3 4]\n",
            "\n"
          ]
        }
      ]
    },
    {
      "cell_type": "markdown",
      "source": [
        "# 4.1.1 Problem - 2: Array Manipulation: Numerical Ranges and Array indexing:"
      ],
      "metadata": {
        "id": "AOtYkwIFr3pW"
      }
    },
    {
      "cell_type": "markdown",
      "source": [
        "1. Create an array with values ranging from 10 to 49. {Hint:np.arrange()}.\n",
        "2. Create a 3X3 matrix with values ranging from 0 to 8.\n",
        "{Hint:look for np.reshape()}\n",
        "3. Create a 3X3 identity matrix.{Hint:np.eye()}\n",
        "4. Create a random array of size 30 and find the mean of the array.\n",
        "\n",
        "  {Hint:check for np.random.random() and array.mean() function}\n",
        "5. Create a 10X10 array with random values and find the minimum and maximum values.\n",
        "6. Create a zero array of size 10 and replace 5th element with 1.\n",
        "7. Reverse an array arr = [1,2,0,0,4,0].\n",
        "8. Create a 2d array with 1 on border and 0 inside.\n",
        "9. Create a 8X8 matrix and fill it with a checkerboard pattern."
      ],
      "metadata": {
        "id": "gKmI77qYr9J4"
      }
    },
    {
      "cell_type": "code",
      "source": [
        "import numpy as np\n",
        "\n",
        "array = np.arange(10, 49)\n",
        "print(f\"Array with values ranging from 10 to 49= \\n{array}\\n\")\n",
        "\n",
        "matrix = np.arange(0, 9)\n",
        "matrix_1 = matrix.reshape(3, 3)\n",
        "print(f\"3X3 matrix with values ranging from 0 to 8= \\n{matrix_1}\\n\")\n",
        "\n",
        "matrix_2 = np.eye(3)\n",
        "print(f\"3X3 identity matrix= \\n{matrix_2}\\n\")\n",
        "\n",
        "arr1 = np.random.random(30)\n",
        "mean_val = arr1.mean()\n",
        "print(f\"Random array of size 30= \\n{arr1}\")\n",
        "print(f\"Mean of the above array= {mean_val}\\n\")\n",
        "\n",
        "arr2 = np.random.random((10, 10))\n",
        "min_val = arr2.min()\n",
        "max_val = arr2.max()\n",
        "print(f\"min = {min_val} and max = {max_val} of array:\\n{arr2}\\n\")\n",
        "\n",
        "zeros = np.zeros(10)\n",
        "print(f\"Orginal array = {zeros}\")\n",
        "zeros[4] = 1\n",
        "print(f\"Modified array = {zeros}\\n\")\n",
        "\n",
        "arr = np.array([1, 2, 0, 0, 4, 0])\n",
        "reversed_arr = arr[::-1]\n",
        "print(f\"Original array = {arr}\")\n",
        "print(f\"Reversed array = {arr}\\n\")\n",
        "\n",
        "border_array = np.ones((4, 4))\n",
        "border_array[1:-1, 1:-1] = 0\n",
        "print(f\"Boarder Array = {border_array}\\n\")\n",
        "\n",
        "checkerboard = np.zeros((8, 8), dtype=int)\n",
        "checkerboard[1::2, ::2] = 1\n",
        "checkerboard[::2, 1::2] = 1\n",
        "print(f\"Checkerboard Pattern =\\n{checkerboard}\")"
      ],
      "metadata": {
        "colab": {
          "base_uri": "https://localhost:8080/"
        },
        "id": "EaBRifFksM7m",
        "outputId": "ec685333-8490-4dce-b514-4b155232b472"
      },
      "execution_count": null,
      "outputs": [
        {
          "output_type": "stream",
          "name": "stdout",
          "text": [
            "Array with values ranging from 10 to 49= \n",
            "[10 11 12 13 14 15 16 17 18 19 20 21 22 23 24 25 26 27 28 29 30 31 32 33\n",
            " 34 35 36 37 38 39 40 41 42 43 44 45 46 47 48]\n",
            "\n",
            "3X3 matrix with values ranging from 0 to 8= \n",
            "[[0 1 2]\n",
            " [3 4 5]\n",
            " [6 7 8]]\n",
            "\n",
            "3X3 identity matrix= \n",
            "[[1. 0. 0.]\n",
            " [0. 1. 0.]\n",
            " [0. 0. 1.]]\n",
            "\n",
            "Random array of size 30= \n",
            "[0.4817176  0.10585686 0.48480213 0.90539494 0.32113747 0.43512937\n",
            " 0.38104812 0.55854309 0.21322413 0.41527034 0.04363297 0.9250429\n",
            " 0.58183378 0.22712485 0.95550969 0.04310851 0.36443174 0.59466834\n",
            " 0.59055306 0.7931981  0.81171246 0.98960589 0.6723866  0.53443658\n",
            " 0.46155902 0.58080945 0.71944647 0.82318936 0.81368508 0.47105336]\n",
            "Mean of the above array= 0.5433037415786228\n",
            "\n",
            "min = 0.01456594635402153 and max = 0.9984308349246475 of array:\n",
            "[[0.88224893 0.67806078 0.36450761 0.74155903 0.50635539 0.13670055\n",
            "  0.46030233 0.42639277 0.43404934 0.609311  ]\n",
            " [0.24456045 0.42680373 0.21547504 0.16869853 0.57892696 0.88695807\n",
            "  0.01456595 0.60381171 0.10922188 0.53460253]\n",
            " [0.13448944 0.11411356 0.60626463 0.99825996 0.33870052 0.65863826\n",
            "  0.01808503 0.95351304 0.21425261 0.0712852 ]\n",
            " [0.88522695 0.14037853 0.3400336  0.25563633 0.67737618 0.96873068\n",
            "  0.64488065 0.43991291 0.26790211 0.75512875]\n",
            " [0.54215105 0.7867859  0.25087039 0.14575989 0.54440896 0.51922827\n",
            "  0.78116756 0.38671792 0.19048215 0.96393453]\n",
            " [0.88310278 0.51380188 0.99843083 0.67256865 0.6512165  0.50985467\n",
            "  0.69438131 0.48763847 0.22526845 0.56211143]\n",
            " [0.50258459 0.19360485 0.58548727 0.40791506 0.71153592 0.99081997\n",
            "  0.48139707 0.05952393 0.89289692 0.93445584]\n",
            " [0.01989368 0.9410089  0.43205595 0.68117679 0.12716876 0.20188252\n",
            "  0.94893511 0.54420069 0.37570735 0.67969195]\n",
            " [0.44474296 0.09799536 0.34519791 0.3618922  0.926444   0.81631705\n",
            "  0.0800207  0.93998078 0.43467948 0.51764272]\n",
            " [0.20500399 0.03126644 0.90838552 0.32333182 0.05913382 0.28006484\n",
            "  0.20155078 0.25138589 0.27423191 0.05453618]]\n",
            "\n",
            "Orginal array = [0. 0. 0. 0. 0. 0. 0. 0. 0. 0.]\n",
            "Modified array = [0. 0. 0. 0. 1. 0. 0. 0. 0. 0.]\n",
            "\n",
            "Original array = [1 2 0 0 4 0]\n",
            "Reversed array = [1 2 0 0 4 0]\n",
            "\n",
            "Boarder Array = [[1. 1. 1. 1.]\n",
            " [1. 0. 0. 1.]\n",
            " [1. 0. 0. 1.]\n",
            " [1. 1. 1. 1.]]\n",
            "\n",
            "Checkerboard Pattern =\n",
            "[[0 1 0 1 0 1 0 1]\n",
            " [1 0 1 0 1 0 1 0]\n",
            " [0 1 0 1 0 1 0 1]\n",
            " [1 0 1 0 1 0 1 0]\n",
            " [0 1 0 1 0 1 0 1]\n",
            " [1 0 1 0 1 0 1 0]\n",
            " [0 1 0 1 0 1 0 1]\n",
            " [1 0 1 0 1 0 1 0]]\n"
          ]
        }
      ]
    },
    {
      "cell_type": "markdown",
      "source": [
        "# Problem - 3: Array Operations:"
      ],
      "metadata": {
        "id": "U5SQ8lK1S0xO"
      }
    },
    {
      "cell_type": "markdown",
      "source": [
        "For the following arrays:\n",
        "\n",
        "x = np.array([[1,2],[3,5]]) and y = np.array([[5,6],[7,8]]);\n",
        "\n",
        "v = np.array([9,10]) and w = np.array([11,12]);\n",
        "\n",
        "Complete all the task using numpy:\n",
        "1. Add the two array.\n",
        "2. Subtract the two array.\n",
        "3. Multiply the array with any integers of your choice.\n",
        "4. Find the square of each element of the array.\n",
        "5. Find the dot product between: v(and)w ; x(and)v ; x(and)y.\n",
        "6. Concatenate x(and)y along row and Concatenate v(and)w along column.\n",
        "\n",
        "  {Hint:try np.concatenate() or np.vstack() functions.\n",
        "7. Concatenate x(and)v; if you get an error, observe and explain why did you get the error?"
      ],
      "metadata": {
        "id": "QzeONS51S7vl"
      }
    },
    {
      "cell_type": "code",
      "source": [
        "x = np.array([[1, 2],[3, 5]])\n",
        "y = np.array([[5, 6],[7, 8]])\n",
        "v = np.array([9, 10])\n",
        "w = np.array([11, 12])\n",
        "\n",
        "add = np.add(x, y)\n",
        "print(f\"{x} + {y} = {add}\".replace(\"\\n\", \" \")+\"\\n\")\n",
        "\n",
        "subtract = np.subtract(x, y)\n",
        "print(f\"{x} - {y} = {subtract}\".replace(\"\\n\", \" \")+\"\\n\")\n",
        "\n",
        "multiply = np.multiply(x, 2)\n",
        "print(f\"{x} X 2 = {multiply}\".replace(\"\\n\", \" \")+\"\\n\")\n",
        "\n",
        "square = np.power(y, 2)\n",
        "print(f\"{y} ^ 2 = {square}\".replace(\"\\n\", \" \")+\"\\n\")\n",
        "\n",
        "vandw = np.dot(v, w)\n",
        "xandv = np.dot(x, v)\n",
        "xandy = np.dot(x, y)\n",
        "print(f\"{v} dot {w} = {vandw}\".replace(\"\\n\", \" \"))\n",
        "print(f\"{x} dot {v} = {xandv}\".replace(\"\\n\", \" \"))\n",
        "print(f\"{x} dot {y} = {xandy}\".replace(\"\\n\", \" \")+\"\\n\")\n",
        "\n",
        "concat_row = np.concatenate((x, y), axis=1)\n",
        "concat_column = np.concatenate((v, w), axis=0)\n",
        "print(f\"concatenating {x} and {y} along row= {concat_row}\".replace(\"\\n\", \" \"))\n",
        "print(f\"concatenating {v} and {w} along column= {concat_column}\".replace(\"\\n\", \" \")+\"\\n\")\n",
        "\n",
        "# concatenate = np.concatenate((x, v), axis=0)\n",
        "# print(concatenate)\n",
        "\n",
        "'''\n",
        "  We cannot concatenate arrays with different dimension.\n",
        "  In this case x is 2d array and v is 1d array.So, it throws an error.\n",
        "'''"
      ],
      "metadata": {
        "colab": {
          "base_uri": "https://localhost:8080/",
          "height": 296
        },
        "id": "aRCRCW6vTHKN",
        "outputId": "2465df97-186f-4909-964d-a22cc418402f"
      },
      "execution_count": null,
      "outputs": [
        {
          "output_type": "stream",
          "name": "stdout",
          "text": [
            "[[1 2]  [3 5]] + [[5 6]  [7 8]] = [[ 6  8]  [10 13]]\n",
            "\n",
            "[[1 2]  [3 5]] - [[5 6]  [7 8]] = [[-4 -4]  [-4 -3]]\n",
            "\n",
            "[[1 2]  [3 5]] X 2 = [[ 2  4]  [ 6 10]]\n",
            "\n",
            "[[5 6]  [7 8]] ^ 2 = [[25 36]  [49 64]]\n",
            "\n",
            "[ 9 10] dot [11 12] = 219\n",
            "[[1 2]  [3 5]] dot [ 9 10] = [29 77]\n",
            "[[1 2]  [3 5]] dot [[5 6]  [7 8]] = [[19 22]  [50 58]]\n",
            "\n",
            "concatenating [[1 2]  [3 5]] and [[5 6]  [7 8]] along row= [[1 2 5 6]  [3 5 7 8]]\n",
            "concatenating [ 9 10] and [11 12] along column= [ 9 10 11 12]\n",
            "\n"
          ]
        },
        {
          "output_type": "execute_result",
          "data": {
            "text/plain": [
              "'\\n  We cannot concatenate arrays with different dimension.\\n  In this case x is 2d array and v is 1d array.So, it throws an error.\\n'"
            ],
            "application/vnd.google.colaboratory.intrinsic+json": {
              "type": "string"
            }
          },
          "metadata": {},
          "execution_count": 48
        }
      ]
    },
    {
      "cell_type": "markdown",
      "source": [
        "# Problem - 4: Matrix Operations:"
      ],
      "metadata": {
        "id": "BX1-uIs5lhNQ"
      }
    },
    {
      "cell_type": "markdown",
      "source": [
        "For the following arrays:\n",
        "A = np.array([[3,4],[7,8]]) and B = np.array([[5,3],[2,1]]);\n",
        "Prove following with Numpy:\n",
        "1. Prove A.A<sup>−1</sup> = I.\n",
        "2. Prove AB ̸= BA.\n",
        "3. Prove (AB)<sup>T</sup> = B<sup>T</sup>A<sup>T</sup>\n",
        "\n",
        "\n",
        "Solve the following system of Linear equation using Inverse Methods.\n",
        "\n",
        "  2x − 3y + z = −1\n",
        "  \n",
        "  x − y + 2z = −3\n",
        "  \n",
        "  3x + y − z = 9\n",
        "\n",
        "{Hint: First use Numpy array to represent the equation in Matrix form. Then Solve for: AX = B}\n",
        "\n",
        "Now: solve the above equation using np.linalg.inv function.{Explore more about ”linalg” function\n",
        "of Numpy}"
      ],
      "metadata": {
        "id": "PfwAdkBElozO"
      }
    },
    {
      "cell_type": "code",
      "source": [
        "import numpy as np\n",
        "\n",
        "A = np.array([[3,4],[7,8]])\n",
        "B = np.array([[5,3],[2,1]])\n",
        "\n",
        "A_Inverse = np.linalg.inv(A)\n",
        "Result = np.dot(A, A_Inverse)\n",
        "\n",
        "print(f\"{A} * {A_Inverse} = {Result.round().astype(int)}\".replace(\"\\n\", \" \")+\"\\n\")\n",
        "\n",
        "AB = np.dot(A, B)\n",
        "BA = np.dot(B, A)\n",
        "print(f\"{AB} != {BA}\".replace(\"\\n\", \" \")+\"\\n\")\n",
        "\n",
        "A_T = np.transpose(A)\n",
        "B_T = np.transpose(B)\n",
        "AB_T = np.transpose(AB)\n",
        "BT_AT = np.dot(B_T, A_T)\n",
        "print(f\"{AB_T} = {BT_AT}\".replace(\"\\n\", \" \")+\"\\n\")\n",
        "\n",
        "# Linear equation\n",
        "a = [[2, -3, 1],[1, -1, 2],[3, 1, -1]]\n",
        "b = [-1, -3, 9]\n",
        "\n",
        "a_Inverse = np.linalg.inv(a)      #a^(-1)\n",
        "X = np.dot(a_Inverse, b)          #X = A^(-1).B   [AX = B]\n",
        "\n",
        "print(f\"A = {a}\")\n",
        "print(f\"B = {b}\")\n",
        "print(f\"A^(-1) = {a_Inverse}\")\n",
        "print(f\"X = {X}\")"
      ],
      "metadata": {
        "colab": {
          "base_uri": "https://localhost:8080/"
        },
        "id": "SswXYsz6m1nl",
        "outputId": "1cead946-a758-4fb2-bc7c-98f190652139"
      },
      "execution_count": null,
      "outputs": [
        {
          "output_type": "stream",
          "name": "stdout",
          "text": [
            "[[3 4]  [7 8]] * [[-2.    1.  ]  [ 1.75 -0.75]] = [[1 0]  [0 1]]\n",
            "\n",
            "[[23 13]  [51 29]] != [[36 44]  [13 16]]\n",
            "\n",
            "[[23 51]  [13 29]] = [[23 51]  [13 29]]\n",
            "\n",
            "A = [[2, -3, 1], [1, -1, 2], [3, 1, -1]]\n",
            "B = [-1, -3, 9]\n",
            "A^(-1) = [[ 0.05263158  0.10526316  0.26315789]\n",
            " [-0.36842105  0.26315789  0.15789474]\n",
            " [-0.21052632  0.57894737 -0.05263158]]\n",
            "X = [ 2.  1. -2.]\n"
          ]
        }
      ]
    },
    {
      "cell_type": "markdown",
      "source": [
        "# 4.2 Experiment: How Fast is Numpy?"
      ],
      "metadata": {
        "id": "9Ie-pCFrBda3"
      }
    },
    {
      "cell_type": "markdown",
      "source": [
        "In this exercise, you will compare the performance and implementation of operations using plain Python\n",
        "lists (arrays) and NumPy arrays. Follow the instructions:\n",
        "1. Element-wise Addition:\n",
        "\n",
        "  • Using Python Lists, perform element-wise addition of two lists of size 1, 000, 000. Measure\n",
        "  and Print the time taken for this operation.\n",
        "  • Using Numpy Arrays, Repeat the calculation and measure and print the time taken for this\n",
        "  operation.\n",
        "2. Element-wise Multiplication\n",
        "\n",
        "  • Using Python Lists, perform element-wise multiplication of two lists of size 1, 000, 000. Mea-\n",
        "  sure and Print the time taken for this operation.\n",
        "\n",
        "  • Using Numpy Arrays, Repeat the calculation and measure and print the time taken for this\n",
        "  operation.\n",
        "3. Dot Product\n",
        "\n",
        "  • Using Python Lists, compute the dot product of two lists of size 1, 000, 000. Measure and\n",
        "  Print the time taken for this operation.\n",
        "  • Using Numpy Arrays, Repeat the calculation and measure and print the time taken for this\n",
        "  operation.\n",
        "4. Matrix Multiplication\n",
        "\n",
        "  • Using Python lists, perform matrix multiplication of two matrices of size 1000x1000. Measure\n",
        "  and print the time taken for this operation.\n",
        "\n",
        "  • Using NumPy arrays, perform matrix multiplication of two matrices of size 1000x1000. Mea-\n",
        "  sure and print the time taken for this operation."
      ],
      "metadata": {
        "id": "NJlu3tUFBgen"
      }
    },
    {
      "cell_type": "code",
      "source": [
        "import numpy as np\n",
        "import time\n",
        "\n",
        "size = 1000000\n",
        "\n",
        "list1 = [i for i in range(size)]\n",
        "list2 = [j for j in range(size)]\n",
        "\n",
        "array1 = np.array(list1)\n",
        "array2 = np.array(list2)\n",
        "\n",
        "# Adding\n",
        "start = time.time()\n",
        "add_list = [list1[i] + list2[i] for i in range(size)]\n",
        "add_list_time = time.time() - start\n",
        "print(f\"Time taken for adding 2 lists = {add_list_time}\")\n",
        "\n",
        "start = time.time()\n",
        "add_array = array1 + array2\n",
        "add_array_time = time.time() - start\n",
        "print(f\"Time taken for adding 2 arrays = {add_array_time}\\n\")\n",
        "\n",
        "# Multiplication\n",
        "start = time.time()\n",
        "multiply_list = [list1[i] * list2[i] for i in range(size)]\n",
        "multiply_list_time = time.time() - start\n",
        "print(f\"Time taken for multiplying 2 lists = {multiply_list_time}\")\n",
        "\n",
        "start = time.time()\n",
        "multiply_array = array1 * array2\n",
        "multiply_array_time = time.time() - start\n",
        "print(f\"Time taken for multiplying 2 arrays = {multiply_array_time}\\n\")\n",
        "\n",
        "# Dot Product\n",
        "start = time.time()\n",
        "dot_list = sum([list1[i] * list2[i] for i in range(size)])\n",
        "dot_list_time = time.time() - start\n",
        "print(f\"Time taken to caluclate the dot product of 2 lists = {dot_list_time}\")\n",
        "\n",
        "start = time.time()\n",
        "dot_array = np.dot(array1,array2)\n",
        "dot_array_time = time.time() - start\n",
        "print(f\"Time taken to calculate the dot product of 2 arrays = {dot_array_time}\\n\")\n",
        "\n",
        "# Matrix Multiplication\n",
        "matrix1 = [[1]* 1000 for _ in range(1000)]\n",
        "matrix2 = [[1]* 1000 for _ in range(1000)]\n",
        "\n",
        "matrix2_T = [[matrix2[j][i] for j in range(1000)] for i in range(1000)]\n",
        "\n",
        "start = time.time()\n",
        "\n",
        "result = []\n",
        "for i in range(1000):  #row\n",
        "  new_row = []\n",
        "  for j in range(1000):  #column\n",
        "    total = 0\n",
        "    for k in range(1000):  #each element\n",
        "      total += matrix1[i][k] * matrix2_T[j][k]\n",
        "    new_row.append(total)\n",
        "  result.append(new_row)\n",
        "\n",
        "list_time = time.time() - start\n",
        "\n",
        "print(f\"Time taken for Matrix Multiplication of lists = {list_time}\")\n",
        "\n",
        "mat1 = np.ones((1000, 1000))\n",
        "mat2 = np.ones((1000, 1000))\n",
        "\n",
        "start = time.time()\n",
        "result = np.dot(mat1, mat2)\n",
        "array_time = time.time() - start\n",
        "\n",
        "print(f\"Time taken for Matrix Multiplication of arrays = {array_time}\")"
      ],
      "metadata": {
        "id": "r1CG2wc_B33T",
        "colab": {
          "base_uri": "https://localhost:8080/"
        },
        "outputId": "7cbb76bc-d56e-4558-e368-478c682c82c3"
      },
      "execution_count": null,
      "outputs": [
        {
          "output_type": "stream",
          "name": "stdout",
          "text": [
            "Time taken for adding 2 lists = 0.18347549438476562\n",
            "Time taken for adding 2 arrays = 0.002452850341796875\n",
            "\n",
            "Time taken for multiplying 2 lists = 0.16131186485290527\n",
            "Time taken for multiplying 2 arrays = 0.0024063587188720703\n",
            "\n",
            "Time taken to caluclate the dot product of 2 lists = 0.18436121940612793\n",
            "Time taken to calculate the dot product of 2 arrays = 0.0018792152404785156\n",
            "\n",
            "Time taken for Matrix Multiplication of lists = 331.55979084968567\n",
            "Time taken for Matrix Multiplication of arrays = 0.06771564483642578\n"
          ]
        }
      ]
    }
  ]
}