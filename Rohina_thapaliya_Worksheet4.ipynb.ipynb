{
  "cells": [
    {
      "cell_type": "markdown",
      "id": "c384133c-d897-4468-b790-818f2e625575",
      "metadata": {
        "id": "c384133c-d897-4468-b790-818f2e625575"
      },
      "source": [
        "**Step - 1: Understanding data:**\n",
        "1. Load Dataset: The following code loads a Titanic dataset, keeps only relevant columns, checks for\n",
        "missing data, and handles it by either filling with the mean (for columns with over 10% missing) or\n",
        "dropping rows (for columns with 10% or less missing)."
      ]
    },
    {
      "cell_type": "markdown",
      "id": "e5b3ea53-da19-41d3-be45-2670a78dd971",
      "metadata": {
        "id": "e5b3ea53-da19-41d3-be45-2670a78dd971"
      },
      "source": [
        "# **Example: Implementing k-NN Algorithm from scratch Step - Step Guide**"
      ]
    },
    {
      "cell_type": "code",
      "execution_count": null,
      "id": "7c9347e0-69b1-4ca0-9674-6af9b7b92c5d",
      "metadata": {
        "id": "7c9347e0-69b1-4ca0-9674-6af9b7b92c5d"
      },
      "outputs": [],
      "source": [
        "import pandas as pd\n",
        "import numpy as np"
      ]
    },
    {
      "cell_type": "code",
      "execution_count": null,
      "id": "26e897dc-c983-4fed-87df-58f94188f3bc",
      "metadata": {
        "id": "26e897dc-c983-4fed-87df-58f94188f3bc",
        "outputId": "61aeb4a3-115b-48c3-c1e8-f90945a8d6f8"
      },
      "outputs": [
        {
          "name": "stdout",
          "output_type": "stream",
          "text": [
            "Data after processing:\n",
            "    PassengerId  Survived  Pclass   Age  SibSp  Parch     Fare\n",
            "0            1         0       3  22.0      1      0   7.2500\n",
            "1            2         1       1  38.0      1      0  71.2833\n",
            "2            3         1       3  26.0      0      0   7.9250\n",
            "3            4         1       1  35.0      1      0  53.1000\n",
            "4            5         0       3  35.0      0      0   8.0500\n",
            "\n",
            "Missing values after processing:\n",
            " PassengerId    0\n",
            "Survived       0\n",
            "Pclass         0\n",
            "Age            0\n",
            "SibSp          0\n",
            "Parch          0\n",
            "Fare           0\n",
            "dtype: int64\n"
          ]
        },
        {
          "name": "stderr",
          "output_type": "stream",
          "text": [
            "C:\\Users\\USER\\AppData\\Local\\Temp\\ipykernel_10092\\3479958874.py:10: FutureWarning: A value is trying to be set on a copy of a DataFrame or Series through chained assignment using an inplace method.\n",
            "The behavior will change in pandas 3.0. This inplace method will never work because the intermediate object on which we are setting values always behaves as a copy.\n",
            "\n",
            "For example, when doing 'df[col].method(value, inplace=True)', try using 'df.method({col: value}, inplace=True)' or df[col] = df[col].method(value) instead, to perform the operation inplace on the original object.\n",
            "\n",
            "\n",
            "  data[column].fillna(data[column].mean(), inplace = True)\n"
          ]
        }
      ],
      "source": [
        "data = pd.read_csv(\"Titanic.csv\")\n",
        "categorical_columns = data.select_dtypes(include=['object']).columns\n",
        "\n",
        "data = data.drop(columns=[col for col in categorical_columns if col != 'Survived'])\n",
        "\n",
        "missing_info = data.isnull().sum() /len(data) * 100\n",
        "\n",
        "for column in data.columns:\n",
        "    if missing_info[column] > 10:\n",
        "        data[column].fillna(data[column].mean(), inplace = True)\n",
        "    else:\n",
        "        data.dropna(subset=[column], inplace = True)\n",
        "print(\"Data after processing:\\n\", data.head())\n",
        "print(\"\\nMissing values after processing:\\n\", data.isnull().sum())"
      ]
    },
    {
      "cell_type": "markdown",
      "id": "3119c5ca-132c-477f-b985-c4e0bb53968a",
      "metadata": {
        "id": "3119c5ca-132c-477f-b985-c4e0bb53968a"
      },
      "source": [
        "**2. Creating a Feature Matrix and Label Vector and Splitting Train - Test Split:This code separates the\n",
        "Titanic dataset into features (X) and target (y) and implements a custom train-test splitting function.\n",
        "It shuffles the data, splits it into training (70%) and testing (30%) sets, and verifies the output by\n",
        "displaying the shapes of the resulting datasets. This ensures that the model will have separate data for\n",
        "training and evaluation.**\n"
      ]
    },
    {
      "cell_type": "code",
      "execution_count": null,
      "id": "34dcedb9-d3f9-4c89-84f2-76089ccc4192",
      "metadata": {
        "id": "34dcedb9-d3f9-4c89-84f2-76089ccc4192",
        "outputId": "ffecb821-2c60-4f41-e560-14319158ebaf"
      },
      "outputs": [
        {
          "name": "stdout",
          "output_type": "stream",
          "text": [
            "Shape of x_train:  (624, 6)\n",
            "Shpae of x_test:  (267, 6)\n",
            "Shape of y_train:  (624,)\n",
            "Shape of y_test:  (267,)\n"
          ]
        }
      ],
      "source": [
        "x = data.drop(columns=['Survived']).values\n",
        "y = data['Survived'].values\n",
        "\n",
        "def train_test_split_scratch(x, y, test_size=0.3, random_seed=42):\n",
        "    np.random.seed(random_seed)\n",
        "    indices = np.arange(x.shape[0])\n",
        "    np.random.shuffle(indices)\n",
        "    test_split_size = int(len(x) * test_size)\n",
        "    test_indices = indices[:test_split_size]\n",
        "    train_indices = indices[test_split_size:]\n",
        "    x_train, x_test = x[train_indices], x[test_indices]\n",
        "    y_train, y_test = y[train_indices], y[test_indices]\n",
        "    return x_train, x_test, y_train, y_test\n",
        "\n",
        "x_train, x_test, y_train, y_test = train_test_split_scratch(x, y, test_size = 0.3)\n",
        "\n",
        "print(\"Shape of x_train: \", x_train.shape)\n",
        "print(\"Shpae of x_test: \", x_test.shape)\n",
        "print(\"Shape of y_train: \", y_train.shape)\n",
        "print(\"Shape of y_test: \", y_test.shape)"
      ]
    },
    {
      "cell_type": "markdown",
      "id": "46dc9455-424a-483c-9984-402af8113a95",
      "metadata": {
        "id": "46dc9455-424a-483c-9984-402af8113a95"
      },
      "source": [
        "**Step - 2: Computing Euclidean Distance Metrices**\n",
        "1. The function ensures that the inputs are compatible and calculates the Euclidean distance using the formula. It is versatile for n-dimensional spaces and raises errors for incompatible inputs."
      ]
    },
    {
      "cell_type": "code",
      "execution_count": null,
      "id": "30622802-1951-4ef3-9fc6-684ffa5304d8",
      "metadata": {
        "id": "30622802-1951-4ef3-9fc6-684ffa5304d8",
        "outputId": "34d11623-55b2-41ad-b62b-bc537091fb79"
      },
      "outputs": [
        {
          "name": "stdout",
          "output_type": "stream",
          "text": [
            "Test passed sucessfully\n"
          ]
        }
      ],
      "source": [
        "#implementation of Euclidean Distance\n",
        "\n",
        "def euclidean_distance(point1, point2):\n",
        "    if point1.shape != point2.shape:\n",
        "        raise ValueError(\"Points must have the same dimensions to calculate Euclidean Distance.\")\n",
        "    distance = np.sqrt(np.sum((point1 - point2) ** 2))\n",
        "    return distance\n",
        "\n",
        "\n",
        "#test case for euclidean distance computing function\n",
        "\n",
        "try:\n",
        "    point1 = np.array([3, 4])\n",
        "    point2 = np.array([0,0])\n",
        "    result = euclidean_distance(point1, point2)\n",
        "    expected_result = 5.0\n",
        "    assert np.isclose(result, expected_result), f\"Expected {expected_result}, but got {result}\"\n",
        "    print(\"Test passed sucessfully\")\n",
        "except ValueError as ve:\n",
        "    print(f\"valueerror: {ve}\")\n",
        "except AssertionError as ae:\n",
        "    print(f\"AssertionError: {ae}\")\n",
        "except Exception as e:\n",
        "    print(f\"An unexpected error occurred: {e}\")\n",
        ""
      ]
    },
    {
      "cell_type": "markdown",
      "id": "046bedef-022d-493f-b550-ef5834954141",
      "metadata": {
        "id": "046bedef-022d-493f-b550-ef5834954141"
      },
      "source": [
        "**Step - 3: Implementation of core k-NN Algorithm**\n",
        "1. Predict the class label for a Single Query Point - knn predict single: This function implements the core logic of the K-Nearest Neighbors (KNN) algorithm for a single query point. It calculates the Euclidean distances from the query to all points in the training dataset, identifies the k nearest neighbors, and predicts the class label based on a majority vote among the neighbors. This function is useful for focused predictions on individual data points and acts as a modular building block for the generalized KNN algorithm."
      ]
    },
    {
      "cell_type": "code",
      "execution_count": null,
      "id": "58c10a4c-dad2-44db-87f8-ca51bb9b90b2",
      "metadata": {
        "id": "58c10a4c-dad2-44db-87f8-ca51bb9b90b2"
      },
      "outputs": [],
      "source": [
        "def knn_predict_single(query, x_train, y_train, k=3):\n",
        "    # Step 1: Calculate distances from the query to all training points\n",
        "    distances = [euclidean_distance(query, x) for x in x_train]\n",
        "\n",
        "    # Step 2: Sort indices of distances in ascending order\n",
        "    sorted_indices = np.argsort(distances)\n",
        "\n",
        "    # Step 3: Get the indices of the k nearest neighbors\n",
        "    nearest_indices = sorted_indices[:k]\n",
        "\n",
        "    # Step 4: Get the labels of the k nearest neighbors\n",
        "    nearest_labels = y_train[nearest_indices]\n",
        "\n",
        "    # Step 5: Predict the label using a majority vote\n",
        "    prediction = np.bincount(nearest_labels).argmax()\n",
        "\n",
        "    return prediction\n"
      ]
    },
    {
      "cell_type": "markdown",
      "id": "fec3d1cc-3893-4c1d-9558-0274a29b9dd4",
      "metadata": {
        "id": "fec3d1cc-3893-4c1d-9558-0274a29b9dd4"
      },
      "source": [
        "2. Predict Class Labels for All Test Samples - knn predict: This function extends the KNN algorithm to handle multiple test samples simultaneously. By repeatedly calling knn predict single for each query in the test dataset, it predicts class labels for the entire test set. The function provides a streamlined interface to efficiently classify test points in bulk, leveraging the modularity of knn predict single.\n",
        "3. This test case verifies the functionality of the knn predict\n",
        "function using a small subset of the test data. It predicts class labels for the subset and compares them\n",
        "to the actual labels. The test ensures that the predictions have the correct shape and raises an error if\n",
        "they do not. If successful, it confirms the function’s correctness and prints both the predictions and the\n",
        "actual labels."
      ]
    },
    {
      "cell_type": "code",
      "execution_count": null,
      "id": "16b1bab3-78be-4e92-ab3e-cffd24f00599",
      "metadata": {
        "id": "16b1bab3-78be-4e92-ab3e-cffd24f00599",
        "outputId": "98e8ae38-6e6f-4841-8261-714326c5a852"
      },
      "outputs": [
        {
          "name": "stdout",
          "output_type": "stream",
          "text": [
            "Predictions:  [0 1 0 0 0]\n",
            "Actual labels:  [1 0 0 1 1]\n",
            "Test case passed\n"
          ]
        }
      ],
      "source": [
        "def knn_predict(x_test, x_train, y_train, k=3):\n",
        "    # Predict for all test samples using knn_predict_single\n",
        "    predictions = [knn_predict_single(x, x_train, y_train, k) for x in x_test]\n",
        "    return np.array(predictions)\n",
        "try:\n",
        "    # Use first 5 samples from test data for testing\n",
        "    x_test_sample = x_test[:5]\n",
        "    y_test_sample = y_test[:5]\n",
        "\n",
        "    # Predict using the KNN algorithm\n",
        "    predictions = knn_predict(x_test_sample, x_train, y_train, k=3)\n",
        "\n",
        "    # Print results\n",
        "    print(\"Predictions: \", predictions)\n",
        "    print(\"Actual labels: \", y_test_sample)\n",
        "\n",
        "    # Verify the predictions match the shape of the test labels\n",
        "    assert predictions.shape == y_test_sample.shape, \"Shape mismatch between predictions and actual labels\"\n",
        "    print(\"Test case passed\")\n",
        "except AssertionError as ae:\n",
        "    print(f\"AssertionError: {ae}\")\n",
        "except Exception as e:\n",
        "    print(f\"An unexpected error occurred: {e}\")"
      ]
    },
    {
      "cell_type": "markdown",
      "id": "12f4779d-92bf-4b7e-bb88-90fc26026b63",
      "metadata": {
        "id": "12f4779d-92bf-4b7e-bb88-90fc26026b63"
      },
      "source": [
        "**Step - 4: Computing accuracy\n",
        "The compute accuracy function calculates the accuracy of predictions by comparing the true labels (y true) with the predicted labels (y pred). It computes the percentage of correct predictions out of the total predictions and returns the accuracy as a float value between 0 and 100. The following code evaluates the KNN model’s performance on the entire test set. It predicts the class\n",
        "labels for all test samples using the knn predict function and calculates the model’s accuracy with the\n",
        "compute accuracy function. The accuracy is then displayed as a percentage. Any errors during prediction\n",
        "or computation are caught and reported.\n",
        "Feature Matrix and Label Vector with Train - Test Split:**"
      ]
    },
    {
      "cell_type": "code",
      "execution_count": null,
      "id": "12e77903-c244-46cc-8d04-4918c1caf103",
      "metadata": {
        "id": "12e77903-c244-46cc-8d04-4918c1caf103",
        "outputId": "652a850b-5b94-4c50-da96-3628d34e2f03"
      },
      "outputs": [
        {
          "name": "stdout",
          "output_type": "stream",
          "text": [
            "Accuracy of the KNN model on the test set:  61.80%\n"
          ]
        }
      ],
      "source": [
        "def compute_accuracy(y_true, y_pred):\n",
        "    correct_predictions = np.sum(y_true == y_pred)\n",
        "    total_predictions = len(y_true)\n",
        "    accuracy = (correct_predictions / total_predictions) * 100\n",
        "    return accuracy\n",
        "try:\n",
        "    predictions = knn_predict(x_test, x_train, y_train, k = 3)\n",
        "    accuracy = compute_accuracy(y_test, predictions)\n",
        "    print(f\"Accuracy of the KNN model on the test set: {accuracy: .2f}%\")\n",
        "except Exception as e:\n",
        "    print(f\"an unexpected error occured during prediction or accuracy computation: {e}\")\n",
        ""
      ]
    },
    {
      "cell_type": "markdown",
      "id": "4357d472-5fcf-4e2f-8b09-6e8243ea922a",
      "metadata": {
        "id": "4357d472-5fcf-4e2f-8b09-6e8243ea922a"
      },
      "source": [
        "**Step - 5: Experiment with different values of k:\n",
        "The function experiment knn k values function evaluates the KNN algorithm’s performance for various\n",
        "values of k (number of neighbors). It predicts test labels for each k using the knn predict function,\n",
        "computes the corresponding accuracy with compute accuracy, and stores the results in a dictionary. Finally,\n",
        "it plots k values against their respective accuracies, providing a visual analysis of how the choice of k affects\n",
        "the model’s performance. The function also prints the accuracy for each k. The following code sets up an experiment to test the KNN model’s accuracy across a range of k values from\n",
        "1 to 20 (modifiable range). It calls the experiment knn k values function to run predictions and accuracy\n",
        "calculations for each k and plots the results to show how accuracy varies with different numbers of neighbors.\n",
        "If an error occurs during the experiment, it is caught and reported. The output indicates the completion of\n",
        "the experiment and suggests checking the plot for trends in accuracy.**"
      ]
    },
    {
      "cell_type": "code",
      "execution_count": null,
      "id": "522c7e36-6320-4dc9-bb04-9f54e2b4aa5b",
      "metadata": {
        "id": "522c7e36-6320-4dc9-bb04-9f54e2b4aa5b",
        "outputId": "7f758d38-d775-4257-b8e8-a86a9aaa1348"
      },
      "outputs": [
        {
          "name": "stdout",
          "output_type": "stream",
          "text": [
            "Accuracy for k = 1: 58.43%\n",
            "Accuracy for k = 2: 62.55%\n",
            "Accuracy for k = 3: 61.80%\n",
            "Accuracy for k = 4: 63.30%\n",
            "Accuracy for k = 5: 64.42%\n",
            "Accuracy for k = 6: 64.42%\n",
            "Accuracy for k = 7: 65.17%\n",
            "Accuracy for k = 8: 64.42%\n",
            "Accuracy for k = 9: 65.17%\n",
            "Accuracy for k = 10: 64.04%\n",
            "Accuracy for k = 11: 64.04%\n",
            "Accuracy for k = 12: 64.79%\n",
            "Accuracy for k = 13: 64.79%\n",
            "Accuracy for k = 14: 65.92%\n",
            "Accuracy for k = 15: 65.17%\n",
            "Accuracy for k = 16: 65.92%\n",
            "Accuracy for k = 17: 66.67%\n",
            "Accuracy for k = 18: 66.29%\n",
            "Accuracy for k = 19: 67.79%\n",
            "Accuracy for k = 20: 64.79%\n"
          ]
        },
        {
          "data": {
            "image/png": "[encoded data removed]",
            "text/plain": [
              "<Figure size 1000x500 with 1 Axes>"
            ]
          },
          "metadata": {},
          "output_type": "display_data"
        },
        {
          "name": "stdout",
          "output_type": "stream",
          "text": [
            "Experiment completed successfully.\n"
          ]
        }
      ],
      "source": [
        "import matplotlib.pyplot as plt\n",
        "\n",
        "# Experiment function to test different k-values\n",
        "def experiment_knn_k_values(x_train, y_train, x_test, y_test, k_values):\n",
        "    accuracies = {}\n",
        "\n",
        "    for k in k_values:\n",
        "        try:\n",
        "            # Get predictions for the given k\n",
        "            predictions = knn_predict(x_test, x_train, y_train, k=k)\n",
        "\n",
        "            # Compute accuracy for the current k\n",
        "            accuracy = compute_accuracy(y_test, predictions)\n",
        "            accuracies[k] = accuracy\n",
        "\n",
        "            # Print accuracy for each k\n",
        "            print(f\"Accuracy for k = {k}: {accuracy:.2f}%\")\n",
        "        except Exception as e:\n",
        "            print(f\"Error occurred for k = {k}: {e}\")\n",
        "\n",
        "    # Plot the accuracies\n",
        "    plt.figure(figsize=(10, 5))\n",
        "    plt.plot(list(accuracies.keys()), list(accuracies.values()), marker='o')\n",
        "    plt.xlabel(\"k (Number of Neighbors)\")\n",
        "    plt.ylabel(\"Accuracy (%)\")\n",
        "    plt.title(\"Accuracy of KNN with Different Values of k\")\n",
        "    plt.grid(True)\n",
        "    plt.show()\n",
        "\n",
        "    return accuracies\n",
        "\n",
        "# Range of k-values to test\n",
        "k_values = range(1, 21)\n",
        "\n",
        "# Run the experiment\n",
        "try:\n",
        "    accuracies = experiment_knn_k_values(x_train, y_train, x_test, y_test, k_values)\n",
        "    print(\"Experiment completed successfully.\")\n",
        "except Exception as e:\n",
        "    print(f\"An unexpected error occurred during the experiment: {e}\")\n"
      ]
    },
    {
      "cell_type": "markdown",
      "id": "0c887008-969c-4f08-b903-25fe204c5220",
      "metadata": {
        "id": "0c887008-969c-4f08-b903-25fe204c5220"
      },
      "source": [
        "# 3. To-DO"
      ]
    },
    {
      "cell_type": "markdown",
      "id": "24b83bfe-de6b-4237-975f-d590ef86ff6e",
      "metadata": {
        "id": "24b83bfe-de6b-4237-975f-d590ef86ff6e"
      },
      "source": [
        "**Problem 1: Perform a classification task with knn from scratch.**"
      ]
    },
    {
      "cell_type": "markdown",
      "id": "9c7ee262-c295-4e9a-83e4-8c5364471d08",
      "metadata": {
        "id": "9c7ee262-c295-4e9a-83e4-8c5364471d08"
      },
      "source": [
        "In the diabetes dataset, certain columns may contain 0 where it is biologically invalid (e.g., BMI, Glucose, etc.)."
      ]
    },
    {
      "cell_type": "code",
      "execution_count": null,
      "id": "62730982-b3e1-4148-8580-4f04d2ef2ed4",
      "metadata": {
        "id": "62730982-b3e1-4148-8580-4f04d2ef2ed4"
      },
      "outputs": [],
      "source": [
        "import pandas as pd\n",
        "import numpy as np\n",
        "import matplotlib.pyplot as plt\n",
        "import time"
      ]
    },
    {
      "cell_type": "code",
      "execution_count": null,
      "id": "711f3ba9-62c0-4151-a280-5633ac8c9d39",
      "metadata": {
        "id": "711f3ba9-62c0-4151-a280-5633ac8c9d39",
        "outputId": "d312a9b9-83fc-4494-f08e-e88affcdb377"
      },
      "outputs": [
        {
          "name": "stdout",
          "output_type": "stream",
          "text": [
            "   Pregnancies  Glucose  BloodPressure  SkinThickness  Insulin   BMI  \\\n",
            "0            6      148             72             35        0  33.6   \n",
            "1            1       85             66             29        0  26.6   \n",
            "2            8      183             64              0        0  23.3   \n",
            "3            1       89             66             23       94  28.1   \n",
            "4            0      137             40             35      168  43.1   \n",
            "\n",
            "   DiabetesPedigreeFunction  Age  Outcome  \n",
            "0                     0.627   50        1  \n",
            "1                     0.351   31        0  \n",
            "2                     0.672   32        1  \n",
            "3                     0.167   21        0  \n",
            "4                     2.288   33        1  \n",
            "<class 'pandas.core.frame.DataFrame'>\n",
            "RangeIndex: 768 entries, 0 to 767\n",
            "Data columns (total 9 columns):\n",
            " #   Column                    Non-Null Count  Dtype  \n",
            "---  ------                    --------------  -----  \n",
            " 0   Pregnancies               768 non-null    int64  \n",
            " 1   Glucose                   768 non-null    int64  \n",
            " 2   BloodPressure             768 non-null    int64  \n",
            " 3   SkinThickness             768 non-null    int64  \n",
            " 4   Insulin                   768 non-null    int64  \n",
            " 5   BMI                       768 non-null    float64\n",
            " 6   DiabetesPedigreeFunction  768 non-null    float64\n",
            " 7   Age                       768 non-null    int64  \n",
            " 8   Outcome                   768 non-null    int64  \n",
            "dtypes: float64(2), int64(7)\n",
            "memory usage: 54.1 KB\n",
            "None\n",
            "Pregnancies                 0\n",
            "Glucose                     0\n",
            "BloodPressure               0\n",
            "SkinThickness               0\n",
            "Insulin                     0\n",
            "BMI                         0\n",
            "DiabetesPedigreeFunction    0\n",
            "Age                         0\n",
            "Outcome                     0\n",
            "dtype: int64\n",
            "       Pregnancies     Glucose  BloodPressure  SkinThickness     Insulin  \\\n",
            "count   768.000000  768.000000     768.000000     768.000000  768.000000   \n",
            "mean      3.845052  120.894531      69.105469      20.536458   79.799479   \n",
            "std       3.369578   31.972618      19.355807      15.952218  115.244002   \n",
            "min       0.000000    0.000000       0.000000       0.000000    0.000000   \n",
            "25%       1.000000   99.000000      62.000000       0.000000    0.000000   \n",
            "50%       3.000000  117.000000      72.000000      23.000000   30.500000   \n",
            "75%       6.000000  140.250000      80.000000      32.000000  127.250000   \n",
            "max      17.000000  199.000000     122.000000      99.000000  846.000000   \n",
            "\n",
            "              BMI  DiabetesPedigreeFunction         Age     Outcome  \n",
            "count  768.000000                768.000000  768.000000  768.000000  \n",
            "mean    31.992578                  0.471876   33.240885    0.348958  \n",
            "std      7.884160                  0.331329   11.760232    0.476951  \n",
            "min      0.000000                  0.078000   21.000000    0.000000  \n",
            "25%     27.300000                  0.243750   24.000000    0.000000  \n",
            "50%     32.000000                  0.372500   29.000000    0.000000  \n",
            "75%     36.600000                  0.626250   41.000000    1.000000  \n",
            "max     67.100000                  2.420000   81.000000    1.000000  \n"
          ]
        }
      ],
      "source": [
        "data = pd.read_csv('Diabetes.csv')\n",
        "\n",
        "print(data.head())\n",
        "\n",
        "print(data.info())\n",
        "print(data.isnull().sum())\n",
        "print(data.describe())"
      ]
    },
    {
      "cell_type": "code",
      "execution_count": null,
      "id": "7c7eba3d-9e08-4b47-b484-68f86b944cbe",
      "metadata": {
        "id": "7c7eba3d-9e08-4b47-b484-68f86b944cbe",
        "outputId": "929c923d-01dd-446b-9add-586a45f48d8e"
      },
      "outputs": [
        {
          "name": "stdout",
          "output_type": "stream",
          "text": [
            "Pregnancies                 0\n",
            "Glucose                     0\n",
            "BloodPressure               0\n",
            "SkinThickness               0\n",
            "Insulin                     0\n",
            "BMI                         0\n",
            "DiabetesPedigreeFunction    0\n",
            "Age                         0\n",
            "Outcome                     0\n",
            "dtype: int64\n"
          ]
        },
        {
          "name": "stderr",
          "output_type": "stream",
          "text": [
            "C:\\Users\\USER\\AppData\\Local\\Temp\\ipykernel_9992\\420372586.py:4: FutureWarning: A value is trying to be set on a copy of a DataFrame or Series through chained assignment using an inplace method.\n",
            "The behavior will change in pandas 3.0. This inplace method will never work because the intermediate object on which we are setting values always behaves as a copy.\n",
            "\n",
            "For example, when doing 'df[col].method(value, inplace=True)', try using 'df.method({col: value}, inplace=True)' or df[col] = df[col].method(value) instead, to perform the operation inplace on the original object.\n",
            "\n",
            "\n",
            "  data[col].fillna(data[col].median(), inplace=True)\n",
            "C:\\Users\\USER\\AppData\\Local\\Temp\\ipykernel_9992\\420372586.py:4: FutureWarning: A value is trying to be set on a copy of a DataFrame or Series through chained assignment using an inplace method.\n",
            "The behavior will change in pandas 3.0. This inplace method will never work because the intermediate object on which we are setting values always behaves as a copy.\n",
            "\n",
            "For example, when doing 'df[col].method(value, inplace=True)', try using 'df.method({col: value}, inplace=True)' or df[col] = df[col].method(value) instead, to perform the operation inplace on the original object.\n",
            "\n",
            "\n",
            "  data[col].fillna(data[col].median(), inplace=True)\n",
            "C:\\Users\\USER\\AppData\\Local\\Temp\\ipykernel_9992\\420372586.py:4: FutureWarning: A value is trying to be set on a copy of a DataFrame or Series through chained assignment using an inplace method.\n",
            "The behavior will change in pandas 3.0. This inplace method will never work because the intermediate object on which we are setting values always behaves as a copy.\n",
            "\n",
            "For example, when doing 'df[col].method(value, inplace=True)', try using 'df.method({col: value}, inplace=True)' or df[col] = df[col].method(value) instead, to perform the operation inplace on the original object.\n",
            "\n",
            "\n",
            "  data[col].fillna(data[col].median(), inplace=True)\n",
            "C:\\Users\\USER\\AppData\\Local\\Temp\\ipykernel_9992\\420372586.py:4: FutureWarning: A value is trying to be set on a copy of a DataFrame or Series through chained assignment using an inplace method.\n",
            "The behavior will change in pandas 3.0. This inplace method will never work because the intermediate object on which we are setting values always behaves as a copy.\n",
            "\n",
            "For example, when doing 'df[col].method(value, inplace=True)', try using 'df.method({col: value}, inplace=True)' or df[col] = df[col].method(value) instead, to perform the operation inplace on the original object.\n",
            "\n",
            "\n",
            "  data[col].fillna(data[col].median(), inplace=True)\n",
            "C:\\Users\\USER\\AppData\\Local\\Temp\\ipykernel_9992\\420372586.py:4: FutureWarning: A value is trying to be set on a copy of a DataFrame or Series through chained assignment using an inplace method.\n",
            "The behavior will change in pandas 3.0. This inplace method will never work because the intermediate object on which we are setting values always behaves as a copy.\n",
            "\n",
            "For example, when doing 'df[col].method(value, inplace=True)', try using 'df.method({col: value}, inplace=True)' or df[col] = df[col].method(value) instead, to perform the operation inplace on the original object.\n",
            "\n",
            "\n",
            "  data[col].fillna(data[col].median(), inplace=True)\n"
          ]
        }
      ],
      "source": [
        "columns_to_impute = ['Glucose', 'BloodPressure', 'SkinThickness', 'Insulin', 'BMI']\n",
        "for col in columns_to_impute:\n",
        "    data[col] = data[col].replace(0, np.nan)\n",
        "    data[col].fillna(data[col].median(), inplace=True)\n",
        "\n",
        "print(data.isnull().sum())"
      ]
    },
    {
      "cell_type": "markdown",
      "id": "1e17946a-57b8-453c-8c48-7e36eccc257c",
      "metadata": {
        "id": "1e17946a-57b8-453c-8c48-7e36eccc257c"
      },
      "source": [
        "> **The dataset is now clean and free of invalid or missing value**"
      ]
    },
    {
      "cell_type": "code",
      "execution_count": null,
      "id": "a25476f2-ec5a-4cbf-8c37-342974a66aee",
      "metadata": {
        "id": "a25476f2-ec5a-4cbf-8c37-342974a66aee"
      },
      "outputs": [],
      "source": [
        "X = data.drop(columns=['Outcome'])\n",
        "y = data['Outcome']\n",
        "\n",
        "train_size = int(0.7 * len(X))\n",
        "X_train, X_test = X[:train_size], X[train_size:]\n",
        "y_train, y_test = y[:train_size], y[train_size:]"
      ]
    },
    {
      "cell_type": "markdown",
      "id": "23ba7805-50f5-4131-ae71-43130cab7a29",
      "metadata": {
        "id": "23ba7805-50f5-4131-ae71-43130cab7a29"
      },
      "source": [
        "## Problem - 1: Perform a classification task with KNN from scratch.\n",
        "\n",
        "### 1. Load the Dataset:\n",
        "- Read the dataset into a pandas DataFrame.\n",
        "- Display the first few rows and perform exploratory data analysis (EDA) to understand the dataset:\n",
        "  - Check data types\n",
        "  - Check for missing values\n",
        "  - Summary statistics\n",
        "\n",
        "### 2. Handle Missing Data:\n",
        "- Handle any missing values appropriately, either by dropping or imputing them based on the data.\n",
        "\n",
        "### 3. Feature Engineering:\n",
        "- Separate the feature matrix (X) and target variable (y).\n",
        "- Perform a train-test split from scratch using a 70% − 30% ratio.\n",
        "\n",
        "### 4. Implement KNN:\n",
        "- Build the KNN algorithm from scratch (no libraries like scikit-learn for KNN).\n",
        "- Compute distances using Euclidean distance.\n",
        "- Write functions for:\n",
        "  - Predicting the class for a single query.\n",
        "  - Predicting classes for all test samples.\n",
        "- Evaluate the performance using accuracy."
      ]
    },
    {
      "cell_type": "code",
      "execution_count": null,
      "id": "a7f6b826-85f6-431b-9990-6f42b1369d5e",
      "metadata": {
        "id": "a7f6b826-85f6-431b-9990-6f42b1369d5e",
        "outputId": "c7a2ba93-01d7-42ea-e80c-479c3c01d563"
      },
      "outputs": [
        {
          "name": "stdout",
          "output_type": "stream",
          "text": [
            "Accuracy: 74.03%\n"
          ]
        }
      ],
      "source": [
        "# Euclidean distance function\n",
        "def euclidean_distance(point1, point2):\n",
        "    \"\"\"\n",
        "    Compute the Euclidean distance between two points.\n",
        "\n",
        "    Args:\n",
        "    point1 (numpy array or pandas Series): The first data point.\n",
        "    point2 (numpy array or pandas Series): The second data point.\n",
        "\n",
        "    Returns:\n",
        "    float: The Euclidean distance between the two points.\n",
        "    \"\"\"\n",
        "    # Calculate the squared differences for each feature and sum them up\n",
        "    return np.sqrt(np.sum((point1 - point2) ** 2))\n",
        "\n",
        "# KNN prediction for a single query\n",
        "def knn_predict_single(query, X_train, y_train, k=3):\n",
        "    \"\"\"\n",
        "    Predict the class for a single query using KNN.\n",
        "\n",
        "    Args:\n",
        "    query (numpy array or pandas Series): The query data point.\n",
        "    X_train (pandas DataFrame): The training data.\n",
        "    y_train (pandas Series): The labels for the training data.\n",
        "    k (int): The number of nearest neighbors to consider. Default is 3.\n",
        "\n",
        "    Returns:\n",
        "    int: The predicted class label for the query.\n",
        "    \"\"\"\n",
        "    # Compute the Euclidean distance between the query point and each training point\n",
        "    distances = [euclidean_distance(query, x) for x in X_train.values]\n",
        "\n",
        "    # Sort the distances and get the indices of the k nearest neighbors\n",
        "    sorted_indices = np.argsort(distances)[:k]\n",
        "\n",
        "    # Get the corresponding labels of the k nearest neighbors\n",
        "    nearest_labels = y_train.iloc[sorted_indices]\n",
        "\n",
        "    # Predict the most frequent class label (majority vote)\n",
        "    prediction = np.bincount(nearest_labels).argmax()\n",
        "\n",
        "    return prediction\n",
        "\n",
        "# KNN prediction for all test samples\n",
        "def knn_predict(X_test, X_train, y_train, k=3):\n",
        "    \"\"\"\n",
        "    Predict the classes for all test samples using KNN.\n",
        "\n",
        "    Args:\n",
        "    X_test (pandas DataFrame): The test data.\n",
        "    X_train (pandas DataFrame): The training data.\n",
        "    y_train (pandas Series): The labels for the training data.\n",
        "    k (int): The number of nearest neighbors to consider. Default is 3.\n",
        "\n",
        "    Returns:\n",
        "    numpy array: The predicted class labels for all test samples.\n",
        "    \"\"\"\n",
        "    # Predict the class for each test sample using knn_predict_single\n",
        "    return np.array([knn_predict_single(query, X_train, y_train, k) for query in X_test.values])\n",
        "\n",
        "try:\n",
        "    predictions = knn_predict(X_test, X_train, y_train, k=3)  # Run the KNN prediction function\n",
        "    accuracy = (predictions == y_test.values).mean() * 100  # Calculate accuracy\n",
        "    print(f\"Accuracy: {accuracy:.2f}%\")  # Print accuracy if successful\n",
        "except Exception as e:\n",
        "    print(f\"An error occurred during the prediction or accuracy calculation: {e}\")  # Print a user-friendly error message\n"
      ]
    },
    {
      "cell_type": "markdown",
      "id": "0965e15b-da07-48e3-8503-efad9eae814f",
      "metadata": {
        "id": "0965e15b-da07-48e3-8503-efad9eae814f"
      },
      "source": [
        "## Problem - 2: Experimentation\n",
        "\n",
        "### 1. Repeat the Classification Task:\n",
        "- Scale the feature matrix **X**.\n",
        "- Use the scaled data for training and testing the kNN classifier.\n",
        "- Record the results.\n",
        "\n",
        "### 2. Comparative Analysis: Compare the Results:\n",
        "- Compare the accuracy and performance of the kNN model on the **original dataset** from Problem 1 versus the **scaled dataset**.\n",
        "- **Discuss**:\n",
        "  - How scaling impacted the KNN performance.\n",
        "  - The reason for any observed changes in accuracy."
      ]
    },
    {
      "cell_type": "code",
      "execution_count": null,
      "id": "3499296d-d37c-4cf1-acd8-e4bf0698e96d",
      "metadata": {
        "id": "3499296d-d37c-4cf1-acd8-e4bf0698e96d",
        "outputId": "ec0bcef8-c746-4b37-88fe-7e57713349b6"
      },
      "outputs": [
        {
          "name": "stdout",
          "output_type": "stream",
          "text": [
            "Accuracy on scaled data: 75.32%\n"
          ]
        }
      ],
      "source": [
        "def scale_data(X):\n",
        "    \"\"\"\n",
        "    Scale the feature matrix X using Z-score normalization (standardization).\n",
        "\n",
        "    Args:\n",
        "    X (pandas DataFrame): The feature matrix to be scaled.\n",
        "\n",
        "    Returns:\n",
        "    pandas DataFrame: The scaled feature matrix.\n",
        "    \"\"\"\n",
        "    try:\n",
        "        mean = X.mean(axis=0)\n",
        "        std = X.std(axis=0)\n",
        "\n",
        "        # Z-score normalization (standardization)\n",
        "        X_scaled = (X - mean) / std\n",
        "        return X_scaled\n",
        "    except Exception as e:\n",
        "        print(f\"An error occurred during data scaling: {e}\")\n",
        "        return None\n",
        "\n",
        "# Apply scaling to the feature matrix X\n",
        "X_scaled = scale_data(X)\n",
        "if X_scaled is None:\n",
        "    print(\"Data scaling failed.\")\n",
        "else:\n",
        "    # 2. Split the data into training and testing sets (using a 70%-30% split as per the problem)\n",
        "    train_size = int(0.7 * len(X))  # 70% training data\n",
        "\n",
        "    \"\"\"\n",
        "    Split the data into training and testing sets based on a 70%-30% ratio.\n",
        "\n",
        "    Args:\n",
        "    X (pandas DataFrame): The feature matrix.\n",
        "    y (pandas Series): The target variable.\n",
        "\n",
        "    Returns:\n",
        "    X_train_scaled (pandas DataFrame): The scaled training feature matrix.\n",
        "    X_test_scaled (pandas DataFrame): The scaled testing feature matrix.\n",
        "    y_train (pandas Series): The training target variable.\n",
        "    y_test (pandas Series): The testing target variable.\n",
        "    \"\"\"\n",
        "    try:\n",
        "        # Split the scaled data into training and testing sets\n",
        "        X_train_scaled, X_test_scaled = X_scaled[:train_size], X_scaled[train_size:]\n",
        "        y_train, y_test = y[:train_size], y[train_size:]\n",
        "    except Exception as e:\n",
        "        print(f\"An error occurred during data splitting: {e}\")\n",
        "        X_train_scaled, X_test_scaled, y_train, y_test = None, None, None, None\n",
        "\n",
        "    if X_train_scaled is None or X_test_scaled is None:\n",
        "        print(\"Data splitting failed.\")\n",
        "    else:\n",
        "\n",
        "        try:\n",
        "            scaled_predictions = knn_predict(X_test_scaled, X_train_scaled, y_train, k=3)\n",
        "        except Exception as e:\n",
        "            print(f\"An error occurred during KNN prediction: {e}\")\n",
        "            scaled_predictions = None\n",
        "\n",
        "        if scaled_predictions is not None:\n",
        "            \"\"\"\n",
        "            Calculate the accuracy of the model by comparing predicted labels to actual labels.\n",
        "\n",
        "            Args:\n",
        "            scaled_predictions (numpy array): The predicted labels from the KNN model.\n",
        "            y_test (pandas Series): The actual labels from the test set.\n",
        "\n",
        "            Returns:\n",
        "            float: The accuracy of the model as a percentage.\n",
        "            \"\"\"\n",
        "            try:\n",
        "                scaled_accuracy = (scaled_predictions == y_test.values).mean() * 100\n",
        "\n",
        "                print(f\"Accuracy on scaled data: {scaled_accuracy:.2f}%\")\n",
        "            except Exception as e:\n",
        "                print(f\"An error occurred during accuracy calculation: {e}\")\n"
      ]
    },
    {
      "cell_type": "markdown",
      "id": "e68339dc-34f9-4dfb-b038-ae6a999a97b9",
      "metadata": {
        "id": "e68339dc-34f9-4dfb-b038-ae6a999a97b9"
      },
      "source": [
        "## Problem - 3: Experimentation with k\n",
        "\n",
        "### 1. Vary the number of neighbors - k:\n",
        "- Run the KNN model on both the original and scaled datasets for a range of:\n",
        "  - \\( k = 1, 2, 3, \\dots, 15 \\)\n",
        "- For each \\( k \\), record:\n",
        "  - Accuracy.\n",
        "  - Time taken to make predictions.\n",
        "\n",
        "### 2. Visualize the Results:\n",
        "- Plot the following graphs:\n",
        "  - k vs. Accuracy for original and scaled datasets.\n",
        "  - k vs. Time Taken for original and scaled datasets.\n",
        "\n",
        "### 3. Analyze and Discuss:\n",
        "- Discuss how the choice of \\( k \\) affects the accuracy and computational cost.\n",
        "- Identify the optimal \\( k \\) based on your analysis."
      ]
    },
    {
      "cell_type": "code",
      "execution_count": null,
      "id": "35da0c40-56a0-46de-96ca-fe4ce6270dab",
      "metadata": {
        "id": "35da0c40-56a0-46de-96ca-fe4ce6270dab",
        "outputId": "ca678575-ad55-49c1-f21f-78e46739031b"
      },
      "outputs": [
        {
          "name": "stdout",
          "output_type": "stream",
          "text": [
            "Original Dataset - k = 1: Accuracy = 69.70%, Time Taken = 1.9142s\n",
            "Scaled Dataset - k = 1: Accuracy = 71.00%, Time Taken = 1.7386s\n",
            "Original Dataset - k = 2: Accuracy = 74.03%, Time Taken = 1.7075s\n",
            "Scaled Dataset - k = 2: Accuracy = 74.46%, Time Taken = 1.7085s\n",
            "Original Dataset - k = 3: Accuracy = 74.03%, Time Taken = 1.7106s\n",
            "Scaled Dataset - k = 3: Accuracy = 75.32%, Time Taken = 1.7239s\n",
            "Original Dataset - k = 4: Accuracy = 73.16%, Time Taken = 1.6971s\n",
            "Scaled Dataset - k = 4: Accuracy = 73.59%, Time Taken = 1.6912s\n",
            "Original Dataset - k = 5: Accuracy = 74.46%, Time Taken = 1.6998s\n",
            "Scaled Dataset - k = 5: Accuracy = 74.03%, Time Taken = 1.6176s\n",
            "Original Dataset - k = 6: Accuracy = 77.49%, Time Taken = 1.7100s\n",
            "Scaled Dataset - k = 6: Accuracy = 74.03%, Time Taken = 1.8077s\n",
            "Original Dataset - k = 7: Accuracy = 77.06%, Time Taken = 1.7125s\n",
            "Scaled Dataset - k = 7: Accuracy = 77.06%, Time Taken = 1.6866s\n",
            "Original Dataset - k = 8: Accuracy = 77.49%, Time Taken = 1.7487s\n",
            "Scaled Dataset - k = 8: Accuracy = 77.06%, Time Taken = 1.7119s\n",
            "Original Dataset - k = 9: Accuracy = 76.19%, Time Taken = 1.7103s\n",
            "Scaled Dataset - k = 9: Accuracy = 78.35%, Time Taken = 1.7805s\n",
            "Original Dataset - k = 10: Accuracy = 76.19%, Time Taken = 1.9140s\n",
            "Scaled Dataset - k = 10: Accuracy = 75.76%, Time Taken = 1.7696s\n",
            "Original Dataset - k = 11: Accuracy = 76.19%, Time Taken = 2.0752s\n",
            "Scaled Dataset - k = 11: Accuracy = 77.49%, Time Taken = 1.8885s\n",
            "Original Dataset - k = 12: Accuracy = 76.62%, Time Taken = 1.9693s\n",
            "Scaled Dataset - k = 12: Accuracy = 78.35%, Time Taken = 1.8578s\n",
            "Original Dataset - k = 13: Accuracy = 74.46%, Time Taken = 1.9508s\n",
            "Scaled Dataset - k = 13: Accuracy = 78.79%, Time Taken = 1.7820s\n",
            "Original Dataset - k = 14: Accuracy = 77.06%, Time Taken = 1.8343s\n",
            "Scaled Dataset - k = 14: Accuracy = 79.65%, Time Taken = 1.7826s\n",
            "Original Dataset - k = 15: Accuracy = 74.89%, Time Taken = 1.7413s\n",
            "Scaled Dataset - k = 15: Accuracy = 80.09%, Time Taken = 1.6817s\n"
          ]
        },
        {
          "data": {
            "image/png": "[encoded data removed]",
            "text/plain": [
              "<Figure size 1200x600 with 2 Axes>"
            ]
          },
          "metadata": {},
          "output_type": "display_data"
        }
      ],
      "source": [
        "import time\n",
        "import matplotlib.pyplot as plt\n",
        "\n",
        "# Function to compute and print accuracy and time for each k\n",
        "def evaluate_knn_k_values(x_train, y_train, x_test, y_test, x_train_scaled, x_test_scaled, y_train_scaled, k_values):\n",
        "    original_accuracies = []\n",
        "    scaled_accuracies = []\n",
        "    original_times = []\n",
        "    scaled_times = []\n",
        "\n",
        "    # Loop through each k value\n",
        "    for k in k_values:\n",
        "        # Original dataset\n",
        "        start_time = time.time()\n",
        "        predictions = knn_predict(x_test, x_train, y_train, k=k)\n",
        "        elapsed_time = time.time() - start_time\n",
        "        accuracy = (predictions == y_test.values).mean() * 100\n",
        "        original_accuracies.append(accuracy)\n",
        "        original_times.append(elapsed_time)\n",
        "        print(f\"Original Dataset - k = {k}: Accuracy = {accuracy:.2f}%, Time Taken = {elapsed_time:.4f}s\")\n",
        "\n",
        "        # Scaled dataset\n",
        "        start_time = time.time()\n",
        "        scaled_predictions = knn_predict(x_test_scaled, x_train_scaled, y_train_scaled, k=k)\n",
        "        elapsed_time = time.time() - start_time\n",
        "        accuracy = (scaled_predictions == y_test.values).mean() * 100\n",
        "        scaled_accuracies.append(accuracy)\n",
        "        scaled_times.append(elapsed_time)\n",
        "        print(f\"Scaled Dataset - k = {k}: Accuracy = {accuracy:.2f}%, Time Taken = {elapsed_time:.4f}s\")\n",
        "\n",
        "    # Plotting results\n",
        "    plt.figure(figsize=(12, 6))\n",
        "\n",
        "    # Accuracy Plot\n",
        "    plt.subplot(1, 2, 1)\n",
        "    plt.plot(k_values, original_accuracies, label='Original Dataset', marker='o')\n",
        "    plt.plot(k_values, scaled_accuracies, label='Scaled Dataset', marker='o')\n",
        "    plt.xlabel('k (Number of Neighbors)')\n",
        "    plt.ylabel('Accuracy (%)')\n",
        "    plt.title('k vs. Accuracy')\n",
        "    plt.legend()\n",
        "    plt.grid(True)\n",
        "\n",
        "    # Time Plot\n",
        "    plt.subplot(1, 2, 2)\n",
        "    plt.plot(k_values, original_times, label='Original Dataset', marker='o')\n",
        "    plt.plot(k_values, scaled_times, label='Scaled Dataset', marker='o')\n",
        "    plt.xlabel('k (Number of Neighbors)')\n",
        "    plt.ylabel('Time Taken (seconds)')\n",
        "    plt.title('k vs. Time Taken')\n",
        "    plt.legend()\n",
        "    plt.grid(True)\n",
        "\n",
        "    plt.tight_layout()\n",
        "    plt.show()\n",
        "\n",
        "# Define the range of k values\n",
        "k_values = range(1, 16)\n",
        "\n",
        "# Run the evaluation\n",
        "evaluate_knn_k_values(X_train, y_train, X_test, y_test, X_train_scaled, X_test_scaled, y_train, k_values)"
      ]
    }
  ],
  "metadata": {
    "kernelspec": {
      "display_name": "Python 3 (ipykernel)",
      "language": "python",
      "name": "python3"
    },
    "language_info": {
      "codemirror_mode": {
        "name": "ipython",
        "version": 3
      },
      "file_extension": ".py",
      "mimetype": "text/x-python",
      "name": "python",
      "nbconvert_exporter": "python",
      "pygments_lexer": "ipython3",
      "version": "3.13.0"
    },
    "colab": {
      "provenance": []
    }
  },
  "nbformat": 4,
  "nbformat_minor": 5
}