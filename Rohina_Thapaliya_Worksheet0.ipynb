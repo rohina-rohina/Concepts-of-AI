{
  "nbformat": 4,
  "nbformat_minor": 0,
  "metadata": {
    "colab": {
      "provenance": []
    },
    "kernelspec": {
      "name": "python3",
      "display_name": "Python 3"
    },
    "language_info": {
      "name": "python"
    }
  },
  "cells": [
    {
      "cell_type": "markdown",
      "source": [
        "# TO - DO - Task"
      ],
      "metadata": {
        "id": "HVrozrYjOAkR"
      }
    },
    {
      "cell_type": "markdown",
      "source": [
        "## 7.1 Warming Up Exercise:"
      ],
      "metadata": {
        "id": "WYtSgYOHO6ft"
      }
    },
    {
      "cell_type": "markdown",
      "source": [
        "In this exercise, you’ll work with temperature data from Tribhuwan International Airport, Kathmandu. The data spans one month and represents typical early winter temperatures.\n",
        "\n",
        "• Datasets: The temperatures list contains daily temperature readings in Celsius for one month in Kathmandu. Each day includes three readings representing night (00-08), evening (08-16), and day (16-24) temperatures.\n",
        "\n",
        "• Sample Code - List of temperature measured at Tribhuwan International Airport."
      ],
      "metadata": {
        "id": "TZ8sUFX6O-k5"
      }
    },
    {
      "cell_type": "markdown",
      "source": [
        "**Complete all the task below:**"
      ],
      "metadata": {
        "id": "j2yjRYBhPNA_"
      }
    },
    {
      "cell_type": "markdown",
      "source": [
        "## Task 1. Classify Temperatures:"
      ],
      "metadata": {
        "id": "vu3pBsygOGn_"
      }
    },
    {
      "cell_type": "markdown",
      "source": [
        "1. Create empty lists for temperature classifications:\n",
        "\n",
        "  (a) Cold: temperatures below 10°C.\n",
        "\n",
        "  (b) Mild: temperatures between 10°C and 15°C.\n",
        "\n",
        "  (c) Comfortable: temperatures between 15°C and 20°C.\n",
        "\n",
        "2. Iterate over the temperatures list and add each temperature to the appropriate cate-\n",
        "gory.\n",
        "\n",
        "3. Print the lists to verify the classifications."
      ],
      "metadata": {
        "id": "Qyo4RKqSPX4k"
      }
    },
    {
      "cell_type": "code",
      "execution_count": null,
      "metadata": {
        "colab": {
          "base_uri": "https://localhost:8080/"
        },
        "id": "k4ROU9cQNueD",
        "outputId": "297537b8-4c82-4745-9f76-b36663aa893b"
      },
      "outputs": [
        {
          "output_type": "stream",
          "name": "stdout",
          "text": [
            "Cold Temp:  [8.2, 7.9, 9.0, 8.5, 7.7, 8.4, 9.5, 8.1, 7.6, 8.0, 7.8, 8.7, 9.2, 8.3, 8.9, 7.8]\n",
            "Mild Temp:  [14.1, 13.5, 13.0, 12.9, 13.3, 14.0, 13.4, 14.2, 12.8, 13.7, 13.6, 13.8, 13.9, 12.7, 13.1]\n",
            "Comfortable Temp:  [17.4, 18.0, 17.8, 16.5, 17.2, 16.7, 18.3, 17.9, 17.0, 16.8, 17.5, 17.1, 18.1, 16.4, 18.2, 16.6]\n"
          ]
        }
      ],
      "source": [
        "temperatures = [8.2, 17.4, 14.1, 7.9, 18.0, 13.5, 9.0, 17.8, 13.0, 8.5, 16.5, 12.9, 7.7, 17.2, 13.3, 8.4, 16.7, 14.0, 9.5, 18.3, 13.4, 8.1, 17.9, 14.2, 7.6, 17.0, 12.8, 8.0, 16.8, 13.7, 7.8, 17.5, 13.6, 8.7, 17.1, 13.8, 9.2, 18.1, 13.9, 8.3, 16.4, 12.7, 8.9, 18.2, 13.1, 7.8, 16.6, 12.5]\n",
        "cold=[]\n",
        "mild=[]\n",
        "comfortable=[]\n",
        "for i in range(len(temperatures)-1):\n",
        "  val=temperatures[i]\n",
        "  if val<10:\n",
        "    cold.append(val)\n",
        "  elif val>=10 and val <15:\n",
        "    mild.append(val)\n",
        "  else:\n",
        "    comfortable.append(val)\n",
        "\n",
        "print(\"Cold Temp: \", cold)\n",
        "print(\"Mild Temp: \", mild)\n",
        "print(\"Comfortable Temp: \", comfortable)"
      ]
    },
    {
      "cell_type": "markdown",
      "source": [
        "## Task 2. Based on Data - Answer all the Questions:"
      ],
      "metadata": {
        "id": "i_VIXjRuTMNg"
      }
    },
    {
      "cell_type": "markdown",
      "source": [
        "1. How many times was it mild?\n",
        "\n",
        "  (a) Hint: Count the number of items in the mild list and print the result.\n",
        "2. How many times was it comfortable?\n",
        "3. How many times was it cold?"
      ],
      "metadata": {
        "id": "VdPlVfBETcMf"
      }
    },
    {
      "cell_type": "code",
      "source": [
        "temperatures = [8.2, 17.4, 14.1, 7.9, 18.0, 13.5, 9.0, 17.8, 13.0, 8.5, 16.5, 12.9, 7.7, 17.2, 13.3, 8.4, 16.7, 14.0, 9.5, 18.3, 13.4, 8.1, 17.9, 14.2, 7.6, 17.0, 12.8, 8.0, 16.8, 13.7, 7.8, 17.5, 13.6, 8.7, 17.1, 13.8, 9.2, 18.1, 13.9, 8.3, 16.4, 12.7, 8.9, 18.2, 13.1, 7.8, 16.6, 12.5]\n",
        "cold=[]\n",
        "mild=[]\n",
        "comfortable=[]\n",
        "for i in range(len(temperatures)-1):\n",
        "  val=temperatures[i]\n",
        "  if val<10:\n",
        "    cold.append(val)\n",
        "  elif val>=10 and val <15:\n",
        "    mild.append(val)\n",
        "  else:\n",
        "    comfortable.append(val)\n",
        "\n",
        "print(\"Mild days were: \", len(mild),\" days\")\n",
        "print(\"Comfortable days were: \", len(comfortable),\" days\")\n",
        "print(\"Cold days were: \", len(cold),\" days\")"
      ],
      "metadata": {
        "colab": {
          "base_uri": "https://localhost:8080/"
        },
        "id": "HiM_0PnNThB6",
        "outputId": "3b1924f2-c992-4844-c57a-ef65174ba3e0"
      },
      "execution_count": null,
      "outputs": [
        {
          "output_type": "stream",
          "name": "stdout",
          "text": [
            "Mild days were:  15  days\n",
            "Comfortable days were:  16  days\n",
            "Cold days were:  16  days\n"
          ]
        }
      ]
    },
    {
      "cell_type": "markdown",
      "source": [
        "## Task 3. Convert Temperatures from Celsius to Fahrenheit"
      ],
      "metadata": {
        "id": "fqLRoJZNVXXv"
      }
    },
    {
      "cell_type": "markdown",
      "source": [
        "Using the formula for temperature conversion, convert each reading from Celsius to Fahren-\n",
        "heit and store it in a new list called temperatures_fahrenheit.\n",
        "\n",
        "Formula: Fahrenheit = (Celsius × 9/5) + 32\n",
        "\n",
        "1. Iterate over the temperatures list and apply the formula to convert each temperature.\n",
        "2. Store the results in the new list.\n",
        "3. Print the converted Fahrenheit values."
      ],
      "metadata": {
        "id": "kY9IxayOV-MP"
      }
    },
    {
      "cell_type": "code",
      "source": [
        "temperatures = [8.2, 17.4, 14.1, 7.9, 18.0, 13.5, 9.0, 17.8, 13.0, 8.5, 16.5, 12.9, 7.7, 17.2, 13.3, 8.4, 16.7, 14.0, 9.5, 18.3, 13.4, 8.1, 17.9, 14.2, 7.6, 17.0, 12.8, 8.0, 16.8, 13.7, 7.8, 17.5, 13.6, 8.7, 17.1, 13.8, 9.2, 18.1, 13.9, 8.3, 16.4, 12.7, 8.9, 18.2, 13.1, 7.8, 16.6, 12.5]\n",
        "temperatures_fahrenheit=[]\n",
        "for i in range(len(temperatures)-1):\n",
        "  fahren=(i*9/5)+32\n",
        "  temperatures_fahrenheit.append(fahren)\n",
        "print(temperatures_fahrenheit)"
      ],
      "metadata": {
        "colab": {
          "base_uri": "https://localhost:8080/"
        },
        "id": "YQOI6FBlWHu2",
        "outputId": "52a3de8a-4aff-4470-f5a3-f63cb16a0f87"
      },
      "execution_count": null,
      "outputs": [
        {
          "output_type": "stream",
          "name": "stdout",
          "text": [
            "[32.0, 33.8, 35.6, 37.4, 39.2, 41.0, 42.8, 44.6, 46.4, 48.2, 50.0, 51.8, 53.6, 55.4, 57.2, 59.0, 60.8, 62.6, 64.4, 66.2, 68.0, 69.8, 71.6, 73.4, 75.2, 77.0, 78.8, 80.6, 82.4, 84.2, 86.0, 87.8, 89.6, 91.4, 93.2, 95.0, 96.8, 98.6, 100.4, 102.2, 104.0, 105.8, 107.6, 109.4, 111.2, 113.0, 114.8]\n"
          ]
        }
      ]
    },
    {
      "cell_type": "markdown",
      "source": [
        "## Task 4. Analyze Temperature Patterns by Time of Day:"
      ],
      "metadata": {
        "id": "Vfg45iDQVSzr"
      }
    },
    {
      "cell_type": "code",
      "source": [
        "import matplotlib.pyplot as plt\n",
        "\n",
        "temperatures = [8.2, 17.4, 14.1, 7.9, 18.0, 13.5, 9.0, 17.8, 13.0, 8.5, 16.5, 12.9, 7.7, 17.2, 13.3, 8.4, 16.7, 14.0, 9.5, 18.3, 13.4, 8.1, 17.9, 14.2, 7.6, 17.0, 12.8, 8.0, 16.8, 13.7, 7.8, 17.5, 13.6, 8.7, 17.1, 13.8, 9.2, 18.1, 13.9, 8.3, 16.4, 12.7, 8.9, 18.2, 13.1, 7.8, 16.6, 12.5]\n",
        "\n",
        "night= []\n",
        "day= []\n",
        "eve= []\n",
        "\n",
        "for i,temp in enumerate(temperatures):\n",
        "  if i%3==0:\n",
        "    night.append(temp)\n",
        "  elif i%3==1:\n",
        "    eve.append(temp)\n",
        "  else:\n",
        "    day.append(temp)\n",
        "\n",
        "average_day_temp= sum(day)/len(day)\n",
        "print(f\"The average day temperature is {average_day_temp:.2f} degree celcius\")\n",
        "\n",
        "\n",
        "#day vs temperature plot\n",
        "plt.figure(figsize=(12,6))\n",
        "plt.plot(range(1, len(day)+1), day, marker='*', linestyle='-', color='blue', label='Tempereature of the days')\n",
        "plt.title(\"Day vs Temperature Graph\")\n",
        "plt.xlabel(\"number of Days\")\n",
        "plt.ylabel(\"Temperature (degree celcius)\")\n",
        "plt.grid(True)\n",
        "plt.legend()\n",
        "plt.show()"
      ],
      "metadata": {
        "colab": {
          "base_uri": "https://localhost:8080/",
          "height": 581
        },
        "id": "tr-mfnJ3VXqc",
        "outputId": "e842c462-27e5-4e2c-c07a-6a1a8fe6768d"
      },
      "execution_count": null,
      "outputs": [
        {
          "output_type": "stream",
          "name": "stdout",
          "text": [
            "The average day temperature is 13.41 degree celcius\n"
          ]
        },
        {
          "output_type": "display_data",
          "data": {
            "text/plain": [
              "<Figure size 1200x600 with 1 Axes>"
            ],
            "image/png": "[encoded data removed]"
          },
          "metadata": {}
        }
      ]
    },
    {
      "cell_type": "markdown",
      "source": [
        "# 8.1.1 Exercise - Recursion:"
      ],
      "metadata": {
        "id": "tUWV7vUgYjbI"
      }
    },
    {
      "cell_type": "markdown",
      "source": [
        "Scenario: You have a list that contains numbers and other lists of numbers (nested lists).\n",
        "You want to find the total sum of all the numbers in this structure.\n",
        "\n",
        "Task:\n",
        "\n",
        "• Write a recursive function sum_nested_list(nested_list) that:\n",
        "1. Takes a nested list (a list that can contain numbers or other lists of numbers) as\n",
        "input.\n",
        "2. Sums all numbers at every depth level of the list, regardless of how deeply nested\n",
        "the numbers are.\n",
        "\n",
        "• Test the function with a sample nested list, such as\n",
        "nested_list = [1, [2, [3, 4], 5], 6, [7, 8]].\n",
        "The result should be the total sum of all the numbers."
      ],
      "metadata": {
        "id": "rEjWSJFrbny-"
      }
    },
    {
      "cell_type": "code",
      "source": [
        "def sum_nested_list(nested_list):\n",
        "  total=0\n",
        "  for element in nested_list:\n",
        "    if isinstance(element, list):\n",
        "      total += sum_nested_list(element)\n",
        "    else:\n",
        "      total+=element\n",
        "  return total\n",
        "\n",
        "nested_list = [1, [2, [3, 4], 5], 6, [7, 8]]\n",
        "print(sum_nested_list(nested_list))"
      ],
      "metadata": {
        "colab": {
          "base_uri": "https://localhost:8080/"
        },
        "id": "Huluxf6VcALG",
        "outputId": "66f17e5e-c8a8-458e-b31d-3918924663d2"
      },
      "execution_count": null,
      "outputs": [
        {
          "output_type": "stream",
          "name": "stdout",
          "text": [
            "36\n"
          ]
        }
      ]
    },
    {
      "cell_type": "markdown",
      "source": [
        "# Task 2 - Generate All Permutations of a String:"
      ],
      "metadata": {
        "id": "PZ7ihhdprHc_"
      }
    },
    {
      "cell_type": "markdown",
      "source": [
        "Scenario: Given a string, generate all possible permutations of its characters. This is useful for understanding backtracking and recursive depth-first search.\n",
        "\n",
        "Task:\n",
        "\n",
        "• Write a recursive function generate_permutations(s) that:\n",
        "- Takes a string s as input and returns a list of all unique permutations.\n",
        "\n",
        "• Test with strings like ”abc” and ”aab”."
      ],
      "metadata": {
        "id": "UPxVsaGucedy"
      }
    },
    {
      "cell_type": "code",
      "source": [
        "def generate_permutations(s):\n",
        "    if len(s) == 1:\n",
        "        return [s]\n",
        "\n",
        "    permutations = set()\n",
        "    for i, char in enumerate(s):\n",
        "        remaining = s[:i] + s[i+1:]\n",
        "        for perm in generate_permutations(remaining):\n",
        "            permutations.add(char + perm)\n",
        "\n",
        "    return list(permutations)\n",
        "\n",
        "print(sorted(generate_permutations(\"abc\")))\n",
        "print(sorted(generate_permutations(\"aab\")))\n"
      ],
      "metadata": {
        "id": "7y8Xmt5XrF4d",
        "colab": {
          "base_uri": "https://localhost:8080/"
        },
        "outputId": "cc011bc7-cd5b-4529-bb71-ccbe69f87ec7"
      },
      "execution_count": null,
      "outputs": [
        {
          "output_type": "stream",
          "name": "stdout",
          "text": [
            "['abc', 'acb', 'bac', 'bca', 'cab', 'cba']\n",
            "['aab', 'aba', 'baa']\n"
          ]
        }
      ]
    },
    {
      "cell_type": "markdown",
      "source": [
        "## Task 3 - Directory Size Calculation:"
      ],
      "metadata": {
        "id": "1QgAGqsBejRh"
      }
    },
    {
      "cell_type": "markdown",
      "source": [
        "Task:\n",
        "1. Write a recursive function calculate_directory_size(directory) where:\n",
        "\n",
        "• directory is a dictionary where keys represent file names (with values as sizes in KB) or directory names (with values as another dictionary representing a subdi-\n",
        "rectory).\n",
        "\n",
        "• The function should return the total size of the directory, including all nested\n",
        "subdirectories.\n",
        "\n",
        "2. Test the function with a sample directory structure."
      ],
      "metadata": {
        "id": "Gne6BM_0ew9h"
      }
    },
    {
      "cell_type": "code",
      "source": [
        "def calculate_directory_size(directory):\n",
        "  total_size=0\n",
        "  for key, value in directory.items():\n",
        "    if isinstance(value, dict):\n",
        "      total_size += calculate_directory_size(value)\n",
        "    else:\n",
        "      total_size += value\n",
        "  return total_size\n",
        "\n",
        "sample_directory= {\n",
        "   \"file1.txt\": 400,\n",
        "\"file2.txt\": 700,\n",
        "\"subdir1\": {\n",
        "\"file3.txt\": 1500,\n",
        "\"file4.txt\": 4800\n",
        "},\n",
        "\"subdir2\": {\n",
        "\"subsubdir1\": {\n",
        "\"file5.txt\": 550\n",
        "},\"file6.txt\": 32\n",
        "}\n",
        "}\n",
        "\n",
        "print(\"Total directory size: \", calculate_directory_size(sample_directory), \"KB\")"
      ],
      "metadata": {
        "colab": {
          "base_uri": "https://localhost:8080/"
        },
        "id": "_0TjOj4ffL9j",
        "outputId": "94a4df06-c1ea-4f48-847e-e63edbac100d"
      },
      "execution_count": null,
      "outputs": [
        {
          "output_type": "stream",
          "name": "stdout",
          "text": [
            "Total directory size:  7982 KB\n"
          ]
        }
      ]
    },
    {
      "cell_type": "markdown",
      "source": [
        "# 8.2.2 Exercises - Dynamic Programming:\n",
        "## Task 1 - Coin Change Problem:"
      ],
      "metadata": {
        "id": "febbWGdMiKKo"
      }
    },
    {
      "cell_type": "markdown",
      "source": [
        "Scenario: Given a set of coin denominations and a target amount, find the minimum number\n",
        "of coins needed to make the amount. If it’s not possible, return - 1.\n",
        "\n",
        "Task:\n",
        "1. Write a function min_coins(coins, amount) that:\n",
        "• Uses DP to calculate the minimum number of coins needed to make up the\n",
        "amount.\n",
        "2. Test with coins = [1, 2, 5] and amount = 11. The result should be 3 (using coins\n",
        "[5, 5, 1])."
      ],
      "metadata": {
        "id": "MkphijTxig1w"
      }
    },
    {
      "cell_type": "code",
      "source": [
        "def min_coins(coins, amount):\n",
        "    dp = [float('inf')] * (amount + 1)\n",
        "    dp[0] = 0\n",
        "\n",
        "    for coin in coins:\n",
        "        for i in range(coin, amount + 1):\n",
        "            dp[i] = min(dp[i], dp[i - coin] + 1)\n",
        "\n",
        "    return dp[amount] if dp[amount] != float('inf') else -1\n",
        "\n",
        "# Example\n",
        "coins = [1, 2, 5]\n",
        "amount = 11\n",
        "print(min_coins(coins, amount))\n"
      ],
      "metadata": {
        "id": "2SZsGfVQimnJ",
        "colab": {
          "base_uri": "https://localhost:8080/"
        },
        "outputId": "163850ad-b097-421f-a6d0-b9abfe6b7355"
      },
      "execution_count": null,
      "outputs": [
        {
          "output_type": "stream",
          "name": "stdout",
          "text": [
            "3\n"
          ]
        }
      ]
    },
    {
      "cell_type": "markdown",
      "source": [
        "## Task 2 - Longest Common Subsequence (LCS):"
      ],
      "metadata": {
        "id": "sZZiSLB-htXQ"
      }
    },
    {
      "cell_type": "markdown",
      "source": [
        "Scenario: Given two strings, find the length of their longest common subsequence (LCS).\n",
        "This is useful in text comparison.\n",
        "\n",
        "Task:\n",
        "1. Write a function longest_common_subsequence(s1, s2) that:\n",
        "\n",
        "      • Uses DP to find the length of the LCS of two strings s1 and s2.\n",
        "2. Test with strings like \"abcde\" and \"ace\"; the LCS length should be 3 (\"ace\")."
      ],
      "metadata": {
        "id": "hmVm_dVIhyBB"
      }
    },
    {
      "cell_type": "code",
      "source": [
        "def longest_common_subsequence(s1, s2):\n",
        "    dp = [[0] * (len(s2) + 1) for _ in range(len(s1) + 1)]\n",
        "    for i in range(1, len(s1) + 1):\n",
        "        for j in range(1, len(s2) + 1):\n",
        "            if s1[i - 1] == s2[j - 1]:\n",
        "                dp[i][j] = dp[i - 1][j - 1] + 1\n",
        "            else:\n",
        "                dp[i][j] = max(dp[i - 1][j], dp[i][j - 1])\n",
        "    return dp[len(s1)][len(s2)]\n",
        "\n",
        "s1 = \"abcde\"\n",
        "s2 = \"ace\"\n",
        "print(longest_common_subsequence(s1, s2))\n"
      ],
      "metadata": {
        "colab": {
          "base_uri": "https://localhost:8080/"
        },
        "id": "xjQwkqElh-n4",
        "outputId": "ed47e8e2-0190-4ae0-eb2c-04f411820761"
      },
      "execution_count": null,
      "outputs": [
        {
          "output_type": "stream",
          "name": "stdout",
          "text": [
            "3\n"
          ]
        }
      ]
    },
    {
      "cell_type": "markdown",
      "source": [
        "## Task 3 - 0/1 Knapsack Problem:"
      ],
      "metadata": {
        "id": "I4aKXTKth-8Y"
      }
    },
    {
      "cell_type": "markdown",
      "source": [
        "Scenario: You have a list of items, each with a weight and a value. Given a weight capacity,\n",
        "maximize the total value of items you can carry without exceeding the weight capacity.\n",
        "\n",
        "Task:\n",
        "1. Write a function knapsack(weights, values, capacity) that:\n",
        "\n",
        "  • Uses DP to determine the maximum value that can be achieved within the given weight capacity.\n",
        "\n",
        "2. Test with weights [1, 3, 4, 5], values [1, 4, 5, 7], and capacity 7. The re-\n",
        "sult should be 9."
      ],
      "metadata": {
        "id": "P2bTC9EbiC5i"
      }
    },
    {
      "cell_type": "code",
      "source": [
        "def knapsack(weights, values, capacity):\n",
        "    n = len(weights)\n",
        "    dp = [[0] * (capacity + 1) for _ in range(n + 1)]\n",
        "\n",
        "    for i in range(1, n + 1):\n",
        "        for w in range(1, capacity + 1):\n",
        "            if weights[i - 1] <= w:\n",
        "                dp[i][w] = max(dp[i - 1][w], dp[i - 1][w - weights[i - 1]] + values[i - 1])\n",
        "            else:\n",
        "                dp[i][w] = dp[i - 1][w]\n",
        "\n",
        "    return dp[n][capacity]\n",
        "\n",
        "weights = [1, 3, 4, 5]\n",
        "values = [1, 4, 5, 7]\n",
        "capacity = 7\n",
        "print(knapsack(weights, values, capacity))\n"
      ],
      "metadata": {
        "colab": {
          "base_uri": "https://localhost:8080/"
        },
        "id": "qAN0SPwqihkR",
        "outputId": "6ee717df-614d-46db-f8f3-3b3ea289520c"
      },
      "execution_count": null,
      "outputs": [
        {
          "output_type": "stream",
          "name": "stdout",
          "text": [
            "9\n"
          ]
        }
      ]
    }
  ]
}